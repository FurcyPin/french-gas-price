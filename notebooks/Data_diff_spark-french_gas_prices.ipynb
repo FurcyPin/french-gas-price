{
  "nbformat": 4,
  "nbformat_minor": 0,
  "metadata": {
    "colab": {
      "provenance": [],
      "toc_visible": true,
      "include_colab_link": true
    },
    "kernelspec": {
      "name": "python3",
      "display_name": "Python 3"
    }
  },
  "cells": [
    {
      "cell_type": "markdown",
      "metadata": {
        "id": "view-in-github",
        "colab_type": "text"
      },
      "source": [
        "<a href=\"https://colab.research.google.com/github/FurcyPin/french-gas-price/blob/main/notebooks/Data_diff_spark-french_gas_prices.ipynb\" target=\"_parent\"><img src=\"https://colab.research.google.com/assets/colab-badge.svg\" alt=\"Open In Colab\"/></a>"
      ]
    },
    {
      "cell_type": "markdown",
      "metadata": {
        "id": "sq8U3BtmhtRx"
      },
      "source": [
        "# **Run this to setup the environment**\n",
        "\n"
      ]
    },
    {
      "cell_type": "code",
      "metadata": {
        "id": "lh5NCoc8fsSO",
        "colab": {
          "base_uri": "https://localhost:8080/"
        },
        "outputId": "9dceb6dc-0642-465f-c5a2-8e4f8ea5fa65"
      },
      "source": [
        "!apt-get install openjdk-11-jdk-headless -qq > /dev/null\n",
        "import os\n",
        "os.environ[\"JAVA_HOME\"] = \"/usr/lib/jvm/java-11-openjdk-amd64\"\n",
        "!update-alternatives --set java /usr/lib/jvm/java-11-openjdk-amd64/jre/bin/java\n",
        "!pip install pyspark==3.5.1\n",
        "!pip install spark-frame==\"0.5.*\"\n",
        "!pip install data-diff-viewer==\"0.3.*\""
      ],
      "execution_count": 83,
      "outputs": [
        {
          "output_type": "stream",
          "name": "stdout",
          "text": [
            "update-alternatives: error: alternative /usr/lib/jvm/java-11-openjdk-amd64/jre/bin/java for java not registered; not setting\n",
            "Requirement already satisfied: pyspark==3.5.1 in /usr/local/lib/python3.10/dist-packages (3.5.1)\n",
            "Requirement already satisfied: py4j==0.10.9.7 in /usr/local/lib/python3.10/dist-packages (from pyspark==3.5.1) (0.10.9.7)\n",
            "\u001b[33mWARNING: Running pip as the 'root' user can result in broken permissions and conflicting behaviour with the system package manager. It is recommended to use a virtual environment instead: https://pip.pypa.io/warnings/venv\u001b[0m\u001b[33m\n",
            "\u001b[0mRequirement already satisfied: spark-frame==0.5.* in /usr/local/lib/python3.10/dist-packages (0.5.0)\n",
            "Requirement already satisfied: pip<25.0.0,>=24.0.0 in /usr/local/lib/python3.10/dist-packages (from spark-frame==0.5.*) (24.0)\n",
            "\u001b[33mWARNING: Running pip as the 'root' user can result in broken permissions and conflicting behaviour with the system package manager. It is recommended to use a virtual environment instead: https://pip.pypa.io/warnings/venv\u001b[0m\u001b[33m\n",
            "\u001b[0mRequirement already satisfied: data-diff-viewer==0.3.* in /usr/local/lib/python3.10/dist-packages (0.3.2)\n",
            "Requirement already satisfied: duckdb<0.11.0,>=0.10.1 in /usr/local/lib/python3.10/dist-packages (from data-diff-viewer==0.3.*) (0.10.2)\n",
            "\u001b[33mWARNING: Running pip as the 'root' user can result in broken permissions and conflicting behaviour with the system package manager. It is recommended to use a virtual environment instead: https://pip.pypa.io/warnings/venv\u001b[0m\u001b[33m\n",
            "\u001b[0m"
          ]
        }
      ]
    },
    {
      "cell_type": "code",
      "source": [
        "import os\n",
        "import sys\n",
        "import datetime\n",
        "\n",
        "from pyspark.sql import SparkSession, Column\n",
        "from pyspark.sql import functions as f\n",
        "\n",
        "from java_dependency import JavaDependency\n",
        "\n",
        "day = datetime.date.today().isoformat()\n",
        "\n",
        "os.environ[\"PYSPARK_PYTHON\"] = sys.executable\n",
        "\n",
        "spark_xml = JavaDependency(\n",
        "    group_id=\"com.databricks\",\n",
        "    artifact_id=\"spark-xml_2.12\",\n",
        "    version=\"0.17.0\",\n",
        ")\n",
        "spark_xml.download()\n",
        "\n",
        "spark = (SparkSession.builder\n",
        "         .appName(\"french-gas-prices\")\n",
        "         .config(\"spark.driver.extraClassPath\", str(spark_xml.jar_path))\n",
        "         .config(\"spark.sql.parquet.int96RebaseModeInWrite\", \"CORRECTED\")\n",
        "         .config(\"spark.sql.session.timeZone\", \"UTC\")\n",
        "         .getOrCreate())"
      ],
      "metadata": {
        "colab": {
          "base_uri": "https://localhost:8080/"
        },
        "id": "f7NjvBGyvYHq",
        "outputId": "d78e3746-150f-405c-972d-ea6ecdd3bea3"
      },
      "execution_count": 84,
      "outputs": [
        {
          "output_type": "stream",
          "name": "stdout",
          "text": [
            "Getting jars/spark-xml_2.12-0.17.0.jar: already downloaded\n"
          ]
        }
      ]
    },
    {
      "cell_type": "code",
      "source": [
        "import download_data"
      ],
      "metadata": {
        "id": "DEGB9lzrrFef"
      },
      "execution_count": 85,
      "outputs": []
    },
    {
      "cell_type": "markdown",
      "metadata": {
        "id": "bYORz3Q9wTSW"
      },
      "source": [
        "# Phase 1: Loading the two dataframes and first comparison.\n"
      ]
    },
    {
      "cell_type": "markdown",
      "source": [
        "## Step 1.1: Loading the v1 data (XML file --> Spark DataFrame)"
      ],
      "metadata": {
        "id": "pLVaAZGH3dbn"
      }
    },
    {
      "cell_type": "code",
      "metadata": {
        "id": "8qrQdEj62ptt"
      },
      "source": [
        "from spark_frame.schema_utils import schema_from_json\n",
        "from v1_schema import v1_schema\n",
        "\n",
        "xml_options = {\n",
        "    \"rootTag\": \"pdv_list\",\n",
        "    \"rowTag\": \"pdv\",\n",
        "    \"charset\": \"ISO-8859-1\",\n",
        "    \"mode\": \"FAILFAST\"\n",
        "}\n",
        "\n",
        "df_v1_xml_raw = (\n",
        "  spark.read.format(\"xml\")\n",
        "  .schema(schema_from_json(v1_schema))\n",
        "  .options(**xml_options)\n",
        "  .load(f\"data/v1_xml/day={day}/PrixCarburants_instantane_ruptures.xml\")\n",
        ")"
      ],
      "execution_count": 86,
      "outputs": []
    },
    {
      "cell_type": "markdown",
      "source": [
        "## [Parenthesis] Introducing a feature : schema_from_json\n",
        "\n",
        "In this part of the code, we used [`spark_frame.schema_utils.schema_from_json`](https://furcypin.github.io/spark-frame/reference/schema_utils/#spark_frame.schema_utils.schema_from_json) which is a simple function to convert a json string representing a Spark DataFrame schema into a StructType object that can be used to enforce the schema of a data source.\n",
        "\n",
        "The json representing the full schema being quite large, we did not write it manually but instead used Spark's schema autodetection feature for xml sources, and then wrote the json schema using the method [`spark_frame.schema_utils.schema_to_pretty_json`](https://furcypin.github.io/spark-frame/reference/schema_utils/#spark_frame.schema_utils.schema_to_pretty_json), and then we manually edited the few types that were not inferred correctly by Spark.\n"
      ],
      "metadata": {
        "id": "I2tDcLomubdt"
      }
    },
    {
      "cell_type": "code",
      "source": [
        "df_v1_xml_raw.toPandas()"
      ],
      "metadata": {
        "id": "uXqkw4y1uPUR",
        "colab": {
          "base_uri": "https://localhost:8080/",
          "height": 771
        },
        "outputId": "fc4f7303-5d62-4180-bfc1-49e878636f22"
      },
      "execution_count": 87,
      "outputs": [
        {
          "output_type": "execute_result",
          "data": {
            "text/plain": [
              "        _cp       _id     _latitude     _longitude _pop  \\\n",
              "0     83590  83590001  4.331600e+06  627500.000000    R   \n",
              "1     63230  63230001  4.584100e+06  275900.000000    R   \n",
              "2     44200  44000009  4.720393e+06 -154657.000000    R   \n",
              "3     92230  92230008  4.893270e+06  230440.000000    R   \n",
              "4     13760  13750006  4.361756e+06  530776.150947    R   \n",
              "...     ...       ...           ...            ...  ...   \n",
              "9988  70200  70200006  4.767500e+06  652100.000000    R   \n",
              "9989  32310  32310004  4.386900e+06   39200.000000    R   \n",
              "9990  79200  79200006  4.664100e+06  -26200.000000    R   \n",
              "9991  17100  17100005  4.574600e+06  -67400.000000    R   \n",
              "9992  13870  13870002  4.389700e+06  479400.000000    R   \n",
              "\n",
              "                                adresse  \\\n",
              "0                      Le Murier, RD 97   \n",
              "1           6 AVENUE DES VOLCANS - D941   \n",
              "2             16 BD DES MARTYRS NANTAIS   \n",
              "3                192 Avenue Louis Roche   \n",
              "4                         Espace Daumas   \n",
              "...                                 ...   \n",
              "9988                  16 Rue de Belfort   \n",
              "9989  Route D'Auche, Lieu Dit Haut Rege   \n",
              "9990    20 Boulevard Georges Clemenceau   \n",
              "9991     15 Rue Champagne Saint Georges   \n",
              "9992            30 Avenue Joseph Callet   \n",
              "\n",
              "                                               horaires  \\\n",
              "0     (1, [(None, , 1, Lundi, [Row(_VALUE=None, _fer...   \n",
              "1     (1, [(None, , 1, Lundi, [Row(_VALUE=None, _fer...   \n",
              "2                                                  None   \n",
              "3                                                  None   \n",
              "4     (1, [(None, 1, 1, Lundi, [Row(_VALUE=None, _fe...   \n",
              "...                                                 ...   \n",
              "9988  (1, [(None, , 1, Lundi, [Row(_VALUE=None, _fer...   \n",
              "9989  (, [(None, , 1, Lundi, None), (None, , 2, Mard...   \n",
              "9990  (1, [(None, , 1, Lundi, [Row(_VALUE=None, _fer...   \n",
              "9991  (1, [(None, , 1, Lundi, None), (None, , 2, Mar...   \n",
              "9992  (1, [(None, , 1, Lundi, [Row(_VALUE=None, _fer...   \n",
              "\n",
              "                                                   prix  \\\n",
              "0     [(None, 1, 2024-04-24 09:42:23, Gazole, 1.739)...   \n",
              "1     [(None, 1, 2024-04-30 05:49:39, Gazole, 1.813)...   \n",
              "2     [(None, 1, 2024-05-01 00:01:00, Gazole, 1.803)...   \n",
              "3     [(None, 1, 2024-04-19 14:19:00, Gazole, 1.839)...   \n",
              "4     [(None, 1, 2024-04-27 05:52:15, Gazole, 1.711)...   \n",
              "...                                                 ...   \n",
              "9988  [(None, 1, 2024-04-27 00:01:00, Gazole, 1.804)...   \n",
              "9989  [(None, 1, 2024-04-30 10:19:44, Gazole, 1.755)...   \n",
              "9990  [(None, 1, 2024-05-01 06:19:18, Gazole, 1.862)...   \n",
              "9991  [(None, 1, 2024-04-24 09:27:35, Gazole, 1.689)...   \n",
              "9992  [(None, 1, 2024-04-27 12:39:05, Gazole, 1.736)...   \n",
              "\n",
              "                                                rupture  \\\n",
              "0     [(None, 2021-11-05 07:55:41, , 2, SP95, defini...   \n",
              "1     [(None, 2022-09-15 06:07:13, , 2, SP95, tempor...   \n",
              "2     [(None, 2022-09-12 13:59:19, , 2, SP95, defini...   \n",
              "3     [(None, 2018-11-02 12:13:02, , 3, E85, definit...   \n",
              "4     [(None, 2019-06-14 05:42:35, , 2, SP95, defini...   \n",
              "...                                                 ...   \n",
              "9988  [(None, 2012-12-17 16:50:00, , 3, E85, ), (Non...   \n",
              "9989  [(None, 2018-03-19 11:17:49, , 3, E85, definit...   \n",
              "9990  [(None, 2017-08-30 22:20:35, , 2, SP95, defini...   \n",
              "9991  [(None, 2019-11-02 12:09:56, , 4, GPLc, defini...   \n",
              "9992                                               None   \n",
              "\n",
              "                                               services              ville  \n",
              "0     ([Laverie, Station de gonflage, Lavage automat...           Gonfaron  \n",
              "1     ([Toilettes publiques, Boutique alimentaire, R...        LA GOUTELLE  \n",
              "2     ([Toilettes publiques, Boutique alimentaire, B...             NANTES  \n",
              "3                                               (None,)      GENNEVILLIERS  \n",
              "4                                ([Automate CB 24/24],)       Saint-Cannat  \n",
              "...                                                 ...                ...  \n",
              "9988  ([Toilettes publiques, Boutique alimentaire, B...               LURE  \n",
              "9989                                            (None,)  Valence-sur-Baïse  \n",
              "9990  ([Toilettes publiques, Laverie, Relais colis, ...          PARTHENAY  \n",
              "9991  ([Toilettes publiques, Boutique alimentaire, B...            Saintes  \n",
              "9992  ([Toilettes publiques, Station de gonflage, Ca...           ROGNONAS  \n",
              "\n",
              "[9993 rows x 11 columns]"
            ],
            "text/html": [
              "\n",
              "  <div id=\"df-34e2999f-4bd5-44e6-ad0c-d6ddfd678dbd\" class=\"colab-df-container\">\n",
              "    <div>\n",
              "<style scoped>\n",
              "    .dataframe tbody tr th:only-of-type {\n",
              "        vertical-align: middle;\n",
              "    }\n",
              "\n",
              "    .dataframe tbody tr th {\n",
              "        vertical-align: top;\n",
              "    }\n",
              "\n",
              "    .dataframe thead th {\n",
              "        text-align: right;\n",
              "    }\n",
              "</style>\n",
              "<table border=\"1\" class=\"dataframe\">\n",
              "  <thead>\n",
              "    <tr style=\"text-align: right;\">\n",
              "      <th></th>\n",
              "      <th>_cp</th>\n",
              "      <th>_id</th>\n",
              "      <th>_latitude</th>\n",
              "      <th>_longitude</th>\n",
              "      <th>_pop</th>\n",
              "      <th>adresse</th>\n",
              "      <th>horaires</th>\n",
              "      <th>prix</th>\n",
              "      <th>rupture</th>\n",
              "      <th>services</th>\n",
              "      <th>ville</th>\n",
              "    </tr>\n",
              "  </thead>\n",
              "  <tbody>\n",
              "    <tr>\n",
              "      <th>0</th>\n",
              "      <td>83590</td>\n",
              "      <td>83590001</td>\n",
              "      <td>4.331600e+06</td>\n",
              "      <td>627500.000000</td>\n",
              "      <td>R</td>\n",
              "      <td>Le Murier, RD 97</td>\n",
              "      <td>(1, [(None, , 1, Lundi, [Row(_VALUE=None, _fer...</td>\n",
              "      <td>[(None, 1, 2024-04-24 09:42:23, Gazole, 1.739)...</td>\n",
              "      <td>[(None, 2021-11-05 07:55:41, , 2, SP95, defini...</td>\n",
              "      <td>([Laverie, Station de gonflage, Lavage automat...</td>\n",
              "      <td>Gonfaron</td>\n",
              "    </tr>\n",
              "    <tr>\n",
              "      <th>1</th>\n",
              "      <td>63230</td>\n",
              "      <td>63230001</td>\n",
              "      <td>4.584100e+06</td>\n",
              "      <td>275900.000000</td>\n",
              "      <td>R</td>\n",
              "      <td>6 AVENUE DES VOLCANS - D941</td>\n",
              "      <td>(1, [(None, , 1, Lundi, [Row(_VALUE=None, _fer...</td>\n",
              "      <td>[(None, 1, 2024-04-30 05:49:39, Gazole, 1.813)...</td>\n",
              "      <td>[(None, 2022-09-15 06:07:13, , 2, SP95, tempor...</td>\n",
              "      <td>([Toilettes publiques, Boutique alimentaire, R...</td>\n",
              "      <td>LA GOUTELLE</td>\n",
              "    </tr>\n",
              "    <tr>\n",
              "      <th>2</th>\n",
              "      <td>44200</td>\n",
              "      <td>44000009</td>\n",
              "      <td>4.720393e+06</td>\n",
              "      <td>-154657.000000</td>\n",
              "      <td>R</td>\n",
              "      <td>16 BD DES MARTYRS NANTAIS</td>\n",
              "      <td>None</td>\n",
              "      <td>[(None, 1, 2024-05-01 00:01:00, Gazole, 1.803)...</td>\n",
              "      <td>[(None, 2022-09-12 13:59:19, , 2, SP95, defini...</td>\n",
              "      <td>([Toilettes publiques, Boutique alimentaire, B...</td>\n",
              "      <td>NANTES</td>\n",
              "    </tr>\n",
              "    <tr>\n",
              "      <th>3</th>\n",
              "      <td>92230</td>\n",
              "      <td>92230008</td>\n",
              "      <td>4.893270e+06</td>\n",
              "      <td>230440.000000</td>\n",
              "      <td>R</td>\n",
              "      <td>192 Avenue Louis Roche</td>\n",
              "      <td>None</td>\n",
              "      <td>[(None, 1, 2024-04-19 14:19:00, Gazole, 1.839)...</td>\n",
              "      <td>[(None, 2018-11-02 12:13:02, , 3, E85, definit...</td>\n",
              "      <td>(None,)</td>\n",
              "      <td>GENNEVILLIERS</td>\n",
              "    </tr>\n",
              "    <tr>\n",
              "      <th>4</th>\n",
              "      <td>13760</td>\n",
              "      <td>13750006</td>\n",
              "      <td>4.361756e+06</td>\n",
              "      <td>530776.150947</td>\n",
              "      <td>R</td>\n",
              "      <td>Espace Daumas</td>\n",
              "      <td>(1, [(None, 1, 1, Lundi, [Row(_VALUE=None, _fe...</td>\n",
              "      <td>[(None, 1, 2024-04-27 05:52:15, Gazole, 1.711)...</td>\n",
              "      <td>[(None, 2019-06-14 05:42:35, , 2, SP95, defini...</td>\n",
              "      <td>([Automate CB 24/24],)</td>\n",
              "      <td>Saint-Cannat</td>\n",
              "    </tr>\n",
              "    <tr>\n",
              "      <th>...</th>\n",
              "      <td>...</td>\n",
              "      <td>...</td>\n",
              "      <td>...</td>\n",
              "      <td>...</td>\n",
              "      <td>...</td>\n",
              "      <td>...</td>\n",
              "      <td>...</td>\n",
              "      <td>...</td>\n",
              "      <td>...</td>\n",
              "      <td>...</td>\n",
              "      <td>...</td>\n",
              "    </tr>\n",
              "    <tr>\n",
              "      <th>9988</th>\n",
              "      <td>70200</td>\n",
              "      <td>70200006</td>\n",
              "      <td>4.767500e+06</td>\n",
              "      <td>652100.000000</td>\n",
              "      <td>R</td>\n",
              "      <td>16 Rue de Belfort</td>\n",
              "      <td>(1, [(None, , 1, Lundi, [Row(_VALUE=None, _fer...</td>\n",
              "      <td>[(None, 1, 2024-04-27 00:01:00, Gazole, 1.804)...</td>\n",
              "      <td>[(None, 2012-12-17 16:50:00, , 3, E85, ), (Non...</td>\n",
              "      <td>([Toilettes publiques, Boutique alimentaire, B...</td>\n",
              "      <td>LURE</td>\n",
              "    </tr>\n",
              "    <tr>\n",
              "      <th>9989</th>\n",
              "      <td>32310</td>\n",
              "      <td>32310004</td>\n",
              "      <td>4.386900e+06</td>\n",
              "      <td>39200.000000</td>\n",
              "      <td>R</td>\n",
              "      <td>Route D'Auche, Lieu Dit Haut Rege</td>\n",
              "      <td>(, [(None, , 1, Lundi, None), (None, , 2, Mard...</td>\n",
              "      <td>[(None, 1, 2024-04-30 10:19:44, Gazole, 1.755)...</td>\n",
              "      <td>[(None, 2018-03-19 11:17:49, , 3, E85, definit...</td>\n",
              "      <td>(None,)</td>\n",
              "      <td>Valence-sur-Baïse</td>\n",
              "    </tr>\n",
              "    <tr>\n",
              "      <th>9990</th>\n",
              "      <td>79200</td>\n",
              "      <td>79200006</td>\n",
              "      <td>4.664100e+06</td>\n",
              "      <td>-26200.000000</td>\n",
              "      <td>R</td>\n",
              "      <td>20 Boulevard Georges Clemenceau</td>\n",
              "      <td>(1, [(None, , 1, Lundi, [Row(_VALUE=None, _fer...</td>\n",
              "      <td>[(None, 1, 2024-05-01 06:19:18, Gazole, 1.862)...</td>\n",
              "      <td>[(None, 2017-08-30 22:20:35, , 2, SP95, defini...</td>\n",
              "      <td>([Toilettes publiques, Laverie, Relais colis, ...</td>\n",
              "      <td>PARTHENAY</td>\n",
              "    </tr>\n",
              "    <tr>\n",
              "      <th>9991</th>\n",
              "      <td>17100</td>\n",
              "      <td>17100005</td>\n",
              "      <td>4.574600e+06</td>\n",
              "      <td>-67400.000000</td>\n",
              "      <td>R</td>\n",
              "      <td>15 Rue Champagne Saint Georges</td>\n",
              "      <td>(1, [(None, , 1, Lundi, None), (None, , 2, Mar...</td>\n",
              "      <td>[(None, 1, 2024-04-24 09:27:35, Gazole, 1.689)...</td>\n",
              "      <td>[(None, 2019-11-02 12:09:56, , 4, GPLc, defini...</td>\n",
              "      <td>([Toilettes publiques, Boutique alimentaire, B...</td>\n",
              "      <td>Saintes</td>\n",
              "    </tr>\n",
              "    <tr>\n",
              "      <th>9992</th>\n",
              "      <td>13870</td>\n",
              "      <td>13870002</td>\n",
              "      <td>4.389700e+06</td>\n",
              "      <td>479400.000000</td>\n",
              "      <td>R</td>\n",
              "      <td>30 Avenue Joseph Callet</td>\n",
              "      <td>(1, [(None, , 1, Lundi, [Row(_VALUE=None, _fer...</td>\n",
              "      <td>[(None, 1, 2024-04-27 12:39:05, Gazole, 1.736)...</td>\n",
              "      <td>None</td>\n",
              "      <td>([Toilettes publiques, Station de gonflage, Ca...</td>\n",
              "      <td>ROGNONAS</td>\n",
              "    </tr>\n",
              "  </tbody>\n",
              "</table>\n",
              "<p>9993 rows × 11 columns</p>\n",
              "</div>\n",
              "    <div class=\"colab-df-buttons\">\n",
              "\n",
              "  <div class=\"colab-df-container\">\n",
              "    <button class=\"colab-df-convert\" onclick=\"convertToInteractive('df-34e2999f-4bd5-44e6-ad0c-d6ddfd678dbd')\"\n",
              "            title=\"Convert this dataframe to an interactive table.\"\n",
              "            style=\"display:none;\">\n",
              "\n",
              "  <svg xmlns=\"http://www.w3.org/2000/svg\" height=\"24px\" viewBox=\"0 -960 960 960\">\n",
              "    <path d=\"M120-120v-720h720v720H120Zm60-500h600v-160H180v160Zm220 220h160v-160H400v160Zm0 220h160v-160H400v160ZM180-400h160v-160H180v160Zm440 0h160v-160H620v160ZM180-180h160v-160H180v160Zm440 0h160v-160H620v160Z\"/>\n",
              "  </svg>\n",
              "    </button>\n",
              "\n",
              "  <style>\n",
              "    .colab-df-container {\n",
              "      display:flex;\n",
              "      gap: 12px;\n",
              "    }\n",
              "\n",
              "    .colab-df-convert {\n",
              "      background-color: #E8F0FE;\n",
              "      border: none;\n",
              "      border-radius: 50%;\n",
              "      cursor: pointer;\n",
              "      display: none;\n",
              "      fill: #1967D2;\n",
              "      height: 32px;\n",
              "      padding: 0 0 0 0;\n",
              "      width: 32px;\n",
              "    }\n",
              "\n",
              "    .colab-df-convert:hover {\n",
              "      background-color: #E2EBFA;\n",
              "      box-shadow: 0px 1px 2px rgba(60, 64, 67, 0.3), 0px 1px 3px 1px rgba(60, 64, 67, 0.15);\n",
              "      fill: #174EA6;\n",
              "    }\n",
              "\n",
              "    .colab-df-buttons div {\n",
              "      margin-bottom: 4px;\n",
              "    }\n",
              "\n",
              "    [theme=dark] .colab-df-convert {\n",
              "      background-color: #3B4455;\n",
              "      fill: #D2E3FC;\n",
              "    }\n",
              "\n",
              "    [theme=dark] .colab-df-convert:hover {\n",
              "      background-color: #434B5C;\n",
              "      box-shadow: 0px 1px 3px 1px rgba(0, 0, 0, 0.15);\n",
              "      filter: drop-shadow(0px 1px 2px rgba(0, 0, 0, 0.3));\n",
              "      fill: #FFFFFF;\n",
              "    }\n",
              "  </style>\n",
              "\n",
              "    <script>\n",
              "      const buttonEl =\n",
              "        document.querySelector('#df-34e2999f-4bd5-44e6-ad0c-d6ddfd678dbd button.colab-df-convert');\n",
              "      buttonEl.style.display =\n",
              "        google.colab.kernel.accessAllowed ? 'block' : 'none';\n",
              "\n",
              "      async function convertToInteractive(key) {\n",
              "        const element = document.querySelector('#df-34e2999f-4bd5-44e6-ad0c-d6ddfd678dbd');\n",
              "        const dataTable =\n",
              "          await google.colab.kernel.invokeFunction('convertToInteractive',\n",
              "                                                    [key], {});\n",
              "        if (!dataTable) return;\n",
              "\n",
              "        const docLinkHtml = 'Like what you see? Visit the ' +\n",
              "          '<a target=\"_blank\" href=https://colab.research.google.com/notebooks/data_table.ipynb>data table notebook</a>'\n",
              "          + ' to learn more about interactive tables.';\n",
              "        element.innerHTML = '';\n",
              "        dataTable['output_type'] = 'display_data';\n",
              "        await google.colab.output.renderOutput(dataTable, element);\n",
              "        const docLink = document.createElement('div');\n",
              "        docLink.innerHTML = docLinkHtml;\n",
              "        element.appendChild(docLink);\n",
              "      }\n",
              "    </script>\n",
              "  </div>\n",
              "\n",
              "\n",
              "<div id=\"df-7c4b4beb-b1c1-436a-8dec-346ebd0a8c18\">\n",
              "  <button class=\"colab-df-quickchart\" onclick=\"quickchart('df-7c4b4beb-b1c1-436a-8dec-346ebd0a8c18')\"\n",
              "            title=\"Suggest charts\"\n",
              "            style=\"display:none;\">\n",
              "\n",
              "<svg xmlns=\"http://www.w3.org/2000/svg\" height=\"24px\"viewBox=\"0 0 24 24\"\n",
              "     width=\"24px\">\n",
              "    <g>\n",
              "        <path d=\"M19 3H5c-1.1 0-2 .9-2 2v14c0 1.1.9 2 2 2h14c1.1 0 2-.9 2-2V5c0-1.1-.9-2-2-2zM9 17H7v-7h2v7zm4 0h-2V7h2v10zm4 0h-2v-4h2v4z\"/>\n",
              "    </g>\n",
              "</svg>\n",
              "  </button>\n",
              "\n",
              "<style>\n",
              "  .colab-df-quickchart {\n",
              "      --bg-color: #E8F0FE;\n",
              "      --fill-color: #1967D2;\n",
              "      --hover-bg-color: #E2EBFA;\n",
              "      --hover-fill-color: #174EA6;\n",
              "      --disabled-fill-color: #AAA;\n",
              "      --disabled-bg-color: #DDD;\n",
              "  }\n",
              "\n",
              "  [theme=dark] .colab-df-quickchart {\n",
              "      --bg-color: #3B4455;\n",
              "      --fill-color: #D2E3FC;\n",
              "      --hover-bg-color: #434B5C;\n",
              "      --hover-fill-color: #FFFFFF;\n",
              "      --disabled-bg-color: #3B4455;\n",
              "      --disabled-fill-color: #666;\n",
              "  }\n",
              "\n",
              "  .colab-df-quickchart {\n",
              "    background-color: var(--bg-color);\n",
              "    border: none;\n",
              "    border-radius: 50%;\n",
              "    cursor: pointer;\n",
              "    display: none;\n",
              "    fill: var(--fill-color);\n",
              "    height: 32px;\n",
              "    padding: 0;\n",
              "    width: 32px;\n",
              "  }\n",
              "\n",
              "  .colab-df-quickchart:hover {\n",
              "    background-color: var(--hover-bg-color);\n",
              "    box-shadow: 0 1px 2px rgba(60, 64, 67, 0.3), 0 1px 3px 1px rgba(60, 64, 67, 0.15);\n",
              "    fill: var(--button-hover-fill-color);\n",
              "  }\n",
              "\n",
              "  .colab-df-quickchart-complete:disabled,\n",
              "  .colab-df-quickchart-complete:disabled:hover {\n",
              "    background-color: var(--disabled-bg-color);\n",
              "    fill: var(--disabled-fill-color);\n",
              "    box-shadow: none;\n",
              "  }\n",
              "\n",
              "  .colab-df-spinner {\n",
              "    border: 2px solid var(--fill-color);\n",
              "    border-color: transparent;\n",
              "    border-bottom-color: var(--fill-color);\n",
              "    animation:\n",
              "      spin 1s steps(1) infinite;\n",
              "  }\n",
              "\n",
              "  @keyframes spin {\n",
              "    0% {\n",
              "      border-color: transparent;\n",
              "      border-bottom-color: var(--fill-color);\n",
              "      border-left-color: var(--fill-color);\n",
              "    }\n",
              "    20% {\n",
              "      border-color: transparent;\n",
              "      border-left-color: var(--fill-color);\n",
              "      border-top-color: var(--fill-color);\n",
              "    }\n",
              "    30% {\n",
              "      border-color: transparent;\n",
              "      border-left-color: var(--fill-color);\n",
              "      border-top-color: var(--fill-color);\n",
              "      border-right-color: var(--fill-color);\n",
              "    }\n",
              "    40% {\n",
              "      border-color: transparent;\n",
              "      border-right-color: var(--fill-color);\n",
              "      border-top-color: var(--fill-color);\n",
              "    }\n",
              "    60% {\n",
              "      border-color: transparent;\n",
              "      border-right-color: var(--fill-color);\n",
              "    }\n",
              "    80% {\n",
              "      border-color: transparent;\n",
              "      border-right-color: var(--fill-color);\n",
              "      border-bottom-color: var(--fill-color);\n",
              "    }\n",
              "    90% {\n",
              "      border-color: transparent;\n",
              "      border-bottom-color: var(--fill-color);\n",
              "    }\n",
              "  }\n",
              "</style>\n",
              "\n",
              "  <script>\n",
              "    async function quickchart(key) {\n",
              "      const quickchartButtonEl =\n",
              "        document.querySelector('#' + key + ' button');\n",
              "      quickchartButtonEl.disabled = true;  // To prevent multiple clicks.\n",
              "      quickchartButtonEl.classList.add('colab-df-spinner');\n",
              "      try {\n",
              "        const charts = await google.colab.kernel.invokeFunction(\n",
              "            'suggestCharts', [key], {});\n",
              "      } catch (error) {\n",
              "        console.error('Error during call to suggestCharts:', error);\n",
              "      }\n",
              "      quickchartButtonEl.classList.remove('colab-df-spinner');\n",
              "      quickchartButtonEl.classList.add('colab-df-quickchart-complete');\n",
              "    }\n",
              "    (() => {\n",
              "      let quickchartButtonEl =\n",
              "        document.querySelector('#df-7c4b4beb-b1c1-436a-8dec-346ebd0a8c18 button');\n",
              "      quickchartButtonEl.style.display =\n",
              "        google.colab.kernel.accessAllowed ? 'block' : 'none';\n",
              "    })();\n",
              "  </script>\n",
              "</div>\n",
              "    </div>\n",
              "  </div>\n"
            ],
            "application/vnd.google.colaboratory.intrinsic+json": {
              "type": "dataframe",
              "summary": "{\n  \"name\": \"df_v1_xml_raw\",\n  \"rows\": 9993,\n  \"fields\": [\n    {\n      \"column\": \"_cp\",\n      \"properties\": {\n        \"dtype\": \"category\",\n        \"num_unique_values\": 4339,\n        \"samples\": [\n          \"11310\",\n          \"27500\",\n          \"29850\"\n        ],\n        \"semantic_type\": \"\",\n        \"description\": \"\"\n      }\n    },\n    {\n      \"column\": \"_id\",\n      \"properties\": {\n        \"dtype\": \"number\",\n        \"std\": 26445401,\n        \"min\": 1000001,\n        \"max\": 95870010,\n        \"num_unique_values\": 9993,\n        \"samples\": [\n          22500004,\n          67600004,\n          34110003\n        ],\n        \"semantic_type\": \"\",\n        \"description\": \"\"\n      }\n    },\n    {\n      \"column\": \"_latitude\",\n      \"properties\": {\n        \"dtype\": \"number\",\n        \"std\": 225576.04634249126,\n        \"min\": 4139100.0,\n        \"max\": 5106500.0,\n        \"num_unique_values\": 7735,\n        \"samples\": [\n          4651350.0982446,\n          4474311.08,\n          4957500.0\n        ],\n        \"semantic_type\": \"\",\n        \"description\": \"\"\n      }\n    },\n    {\n      \"column\": \"_longitude\",\n      \"properties\": {\n        \"dtype\": \"number\",\n        \"std\": 284364.1253254896,\n        \"min\": -472300.0,\n        \"max\": 954700.0,\n        \"num_unique_values\": 8173,\n        \"samples\": [\n          541392.0,\n          123900.0,\n          488600.0\n        ],\n        \"semantic_type\": \"\",\n        \"description\": \"\"\n      }\n    },\n    {\n      \"column\": \"_pop\",\n      \"properties\": {\n        \"dtype\": \"category\",\n        \"num_unique_values\": 2,\n        \"samples\": [\n          \"A\",\n          \"R\"\n        ],\n        \"semantic_type\": \"\",\n        \"description\": \"\"\n      }\n    },\n    {\n      \"column\": \"adresse\",\n      \"properties\": {\n        \"dtype\": \"string\",\n        \"num_unique_values\": 9471,\n        \"samples\": [\n          \"Route du Stade\",\n          \"Chemin des Bourgeois\"\n        ],\n        \"semantic_type\": \"\",\n        \"description\": \"\"\n      }\n    },\n    {\n      \"column\": \"horaires\",\n      \"properties\": {\n        \"dtype\": \"object\",\n        \"semantic_type\": \"\",\n        \"description\": \"\"\n      }\n    },\n    {\n      \"column\": \"prix\",\n      \"properties\": {\n        \"dtype\": \"object\",\n        \"semantic_type\": \"\",\n        \"description\": \"\"\n      }\n    },\n    {\n      \"column\": \"rupture\",\n      \"properties\": {\n        \"dtype\": \"object\",\n        \"semantic_type\": \"\",\n        \"description\": \"\"\n      }\n    },\n    {\n      \"column\": \"services\",\n      \"properties\": {\n        \"dtype\": \"object\",\n        \"semantic_type\": \"\",\n        \"description\": \"\"\n      }\n    },\n    {\n      \"column\": \"ville\",\n      \"properties\": {\n        \"dtype\": \"string\",\n        \"num_unique_values\": 7041,\n        \"samples\": [\n          \"st martial de valette\",\n          \"MONTMEYRAN\"\n        ],\n        \"semantic_type\": \"\",\n        \"description\": \"\"\n      }\n    }\n  ]\n}"
            }
          },
          "metadata": {},
          "execution_count": 87
        }
      ]
    },
    {
      "cell_type": "code",
      "metadata": {
        "id": "1_AfP5fBlTfi",
        "colab": {
          "base_uri": "https://localhost:8080/"
        },
        "outputId": "24b48dec-e84c-495a-b738-3e282e485172"
      },
      "source": [
        "df_v1_xml_raw.printSchema()"
      ],
      "execution_count": 88,
      "outputs": [
        {
          "output_type": "stream",
          "name": "stdout",
          "text": [
            "root\n",
            " |-- _cp: string (nullable = true)\n",
            " |-- _id: long (nullable = true)\n",
            " |-- _latitude: double (nullable = true)\n",
            " |-- _longitude: double (nullable = true)\n",
            " |-- _pop: string (nullable = true)\n",
            " |-- adresse: string (nullable = true)\n",
            " |-- horaires: struct (nullable = true)\n",
            " |    |-- _automate-24-24: string (nullable = true)\n",
            " |    |-- jour: array (nullable = true)\n",
            " |    |    |-- element: struct (containsNull = true)\n",
            " |    |    |    |-- _VALUE: string (nullable = true)\n",
            " |    |    |    |-- _ferme: string (nullable = true)\n",
            " |    |    |    |-- _id: long (nullable = true)\n",
            " |    |    |    |-- _nom: string (nullable = true)\n",
            " |    |    |    |-- horaire: array (nullable = true)\n",
            " |    |    |    |    |-- element: struct (containsNull = true)\n",
            " |    |    |    |    |    |-- _VALUE: string (nullable = true)\n",
            " |    |    |    |    |    |-- _fermeture: double (nullable = true)\n",
            " |    |    |    |    |    |-- _ouverture: double (nullable = true)\n",
            " |-- prix: array (nullable = true)\n",
            " |    |-- element: struct (containsNull = true)\n",
            " |    |    |-- _VALUE: string (nullable = true)\n",
            " |    |    |-- _id: long (nullable = true)\n",
            " |    |    |-- _maj: timestamp (nullable = true)\n",
            " |    |    |-- _nom: string (nullable = true)\n",
            " |    |    |-- _valeur: double (nullable = true)\n",
            " |-- rupture: array (nullable = true)\n",
            " |    |-- element: struct (containsNull = true)\n",
            " |    |    |-- _VALUE: string (nullable = true)\n",
            " |    |    |-- _debut: timestamp (nullable = true)\n",
            " |    |    |-- _fin: string (nullable = true)\n",
            " |    |    |-- _id: long (nullable = true)\n",
            " |    |    |-- _nom: string (nullable = true)\n",
            " |    |    |-- _type: string (nullable = true)\n",
            " |-- services: struct (nullable = true)\n",
            " |    |-- service: array (nullable = true)\n",
            " |    |    |-- element: string (containsNull = true)\n",
            " |-- ville: string (nullable = true)\n",
            "\n"
          ]
        }
      ]
    },
    {
      "cell_type": "markdown",
      "metadata": {
        "id": "7RkuqnnCXSFl"
      },
      "source": [
        "## Step 1.2: Loading the v2 data (JSON file -> Spark DataFrame)"
      ]
    },
    {
      "cell_type": "code",
      "metadata": {
        "id": "Gk9LJKGxV26c"
      },
      "source": [
        "json_options = {\n",
        "    \"encoding\": \"ISO-8859-1\",\n",
        "}\n",
        "df_v2_json_raw = spark.read.format(\"json\").load(f\"data/v2_json/day={day}/data.json\")"
      ],
      "execution_count": 89,
      "outputs": []
    },
    {
      "cell_type": "code",
      "metadata": {
        "id": "MP4EVsRqV3mk",
        "colab": {
          "base_uri": "https://localhost:8080/"
        },
        "outputId": "9cbadecc-2a4f-4937-b552-a18b4f74f9ad"
      },
      "source": [
        "df_v2_json_raw.printSchema()"
      ],
      "execution_count": 90,
      "outputs": [
        {
          "output_type": "stream",
          "name": "stdout",
          "text": [
            "root\n",
            " |-- adresse: string (nullable = true)\n",
            " |-- carburants_disponibles: array (nullable = true)\n",
            " |    |-- element: string (containsNull = true)\n",
            " |-- carburants_indisponibles: array (nullable = true)\n",
            " |    |-- element: string (containsNull = true)\n",
            " |-- carburants_rupture_definitive: string (nullable = true)\n",
            " |-- carburants_rupture_temporaire: string (nullable = true)\n",
            " |-- code_departement: string (nullable = true)\n",
            " |-- code_region: string (nullable = true)\n",
            " |-- cp: string (nullable = true)\n",
            " |-- departement: string (nullable = true)\n",
            " |-- e10_maj: string (nullable = true)\n",
            " |-- e10_prix: double (nullable = true)\n",
            " |-- e10_rupture_debut: string (nullable = true)\n",
            " |-- e10_rupture_type: string (nullable = true)\n",
            " |-- e85_maj: string (nullable = true)\n",
            " |-- e85_prix: double (nullable = true)\n",
            " |-- e85_rupture_debut: string (nullable = true)\n",
            " |-- e85_rupture_type: string (nullable = true)\n",
            " |-- gazole_maj: string (nullable = true)\n",
            " |-- gazole_prix: double (nullable = true)\n",
            " |-- gazole_rupture_debut: string (nullable = true)\n",
            " |-- gazole_rupture_type: string (nullable = true)\n",
            " |-- geom: struct (nullable = true)\n",
            " |    |-- lat: double (nullable = true)\n",
            " |    |-- lon: double (nullable = true)\n",
            " |-- gplc_maj: string (nullable = true)\n",
            " |-- gplc_prix: double (nullable = true)\n",
            " |-- gplc_rupture_debut: string (nullable = true)\n",
            " |-- gplc_rupture_type: string (nullable = true)\n",
            " |-- horaires: string (nullable = true)\n",
            " |-- horaires_automate_24_24: string (nullable = true)\n",
            " |-- horaires_jour: string (nullable = true)\n",
            " |-- id: long (nullable = true)\n",
            " |-- latitude: string (nullable = true)\n",
            " |-- longitude: string (nullable = true)\n",
            " |-- pop: string (nullable = true)\n",
            " |-- prix: string (nullable = true)\n",
            " |-- region: string (nullable = true)\n",
            " |-- rupture: string (nullable = true)\n",
            " |-- services: string (nullable = true)\n",
            " |-- services_service: array (nullable = true)\n",
            " |    |-- element: string (containsNull = true)\n",
            " |-- sp95_maj: string (nullable = true)\n",
            " |-- sp95_prix: double (nullable = true)\n",
            " |-- sp95_rupture_debut: string (nullable = true)\n",
            " |-- sp95_rupture_type: string (nullable = true)\n",
            " |-- sp98_maj: string (nullable = true)\n",
            " |-- sp98_prix: double (nullable = true)\n",
            " |-- sp98_rupture_debut: string (nullable = true)\n",
            " |-- sp98_rupture_type: string (nullable = true)\n",
            " |-- ville: string (nullable = true)\n",
            "\n"
          ]
        }
      ]
    },
    {
      "cell_type": "code",
      "metadata": {
        "id": "0pZezbrKxbgF",
        "colab": {
          "base_uri": "https://localhost:8080/",
          "height": 791
        },
        "outputId": "fc7c1ded-183c-4880-b0ec-8291894294a4"
      },
      "source": [
        "df_v2_json_raw.toPandas()"
      ],
      "execution_count": 91,
      "outputs": [
        {
          "output_type": "execute_result",
          "data": {
            "text/plain": [
              "                         adresse     carburants_disponibles  \\\n",
              "0      20 avenue robert schumann  [Gazole, SP95, E10, SP98]   \n",
              "1        Avenue Georges Pompidou   [Gazole, E85, E10, SP98]   \n",
              "2         BOULEVARD DE LA FLECHE  [Gazole, SP95, E85, SP98]   \n",
              "3         DEVIATION RN 568 OUEST        [Gazole, E10, SP98]   \n",
              "4              87 rue jean monet       [Gazole, SP95, SP98]   \n",
              "...                          ...                        ...   \n",
              "9988  1005 AV. CHARLES DE GAULLE        [Gazole, E10, SP98]   \n",
              "9989         34 RUE HENRI BERGER   [Gazole, E85, E10, SP98]   \n",
              "9990    rue de la grande bruyère  [Gazole, SP95, E10, SP98]   \n",
              "9991       165 route de Meurchin   [Gazole, E85, E10, SP98]   \n",
              "9992             ROUTE DE RENNES       [Gazole, SP95, SP98]   \n",
              "\n",
              "     carburants_indisponibles carburants_rupture_definitive  \\\n",
              "0                 [E85, GPLc]                           E85   \n",
              "1                [SP95, GPLc]                          None   \n",
              "2                 [GPLc, E10]                      GPLc;E10   \n",
              "3           [SP95, E85, GPLc]                          None   \n",
              "4            [E85, GPLc, E10]                  E85;GPLc;E10   \n",
              "...                       ...                           ...   \n",
              "9988        [SP95, E85, GPLc]                          GPLc   \n",
              "9989             [SP95, GPLc]                     SP95;GPLc   \n",
              "9990              [E85, GPLc]                      E85;GPLc   \n",
              "9991             [SP95, GPLc]                     SP95;GPLc   \n",
              "9992         [E85, GPLc, E10]                           E85   \n",
              "\n",
              "     carburants_rupture_temporaire code_departement code_region     cp  \\\n",
              "0                             None               95          11  95350   \n",
              "1                             None               13          93  13270   \n",
              "2                             None               14          28  14220   \n",
              "3                             None               13          93  13270   \n",
              "4                             None               87          75  87570   \n",
              "...                            ...              ...         ...    ...   \n",
              "9988                          None               26          84  26300   \n",
              "9989                          None               21          27  21610   \n",
              "9990                          None               71          27  71600   \n",
              "9991                          None               62          32  62220   \n",
              "9992                          None               35          53  35770   \n",
              "\n",
              "           departement                    e10_maj  ...  \\\n",
              "0           Val-d'Oise  2024-05-01T00:41:00+02:00  ...   \n",
              "1     Bouches-du-Rhône  2024-04-30T11:43:03+02:00  ...   \n",
              "2             Calvados                       None  ...   \n",
              "3     Bouches-du-Rhône  2024-04-27T10:01:00+02:00  ...   \n",
              "4         Haute-Vienne                       None  ...   \n",
              "...                ...                        ...  ...   \n",
              "9988             Drôme  2024-04-26T12:03:12+02:00  ...   \n",
              "9989         Côte-d'Or  2024-04-30T08:36:34+02:00  ...   \n",
              "9990    Saône-et-Loire  2024-04-20T21:15:00+02:00  ...   \n",
              "9991     Pas-de-Calais  2024-04-27T09:00:00+02:00  ...   \n",
              "9992   Ille-et-Vilaine                       None  ...   \n",
              "\n",
              "                                       services_service  \\\n",
              "0     [Vente de gaz domestique (Butane, Propane), DA...   \n",
              "1     [Vente de fioul domestique, Lavage manuel, Ven...   \n",
              "2     [Toilettes publiques, Laverie, Relais colis, B...   \n",
              "3                                                  None   \n",
              "4     [Restauration à emporter, Station de gonflage,...   \n",
              "...                                                 ...   \n",
              "9988  [Boutique alimentaire, Boutique non alimentair...   \n",
              "9989  [Laverie, Station de gonflage, Piste poids lou...   \n",
              "9990                                [Automate CB 24/24]   \n",
              "9991  [Relais colis, Boutique alimentaire, Boutique ...   \n",
              "9992  [Toilettes publiques, Station de gonflage, Car...   \n",
              "\n",
              "                       sp95_maj sp95_prix         sp95_rupture_debut  \\\n",
              "0     2024-04-29T16:51:00+02:00     1.935                       None   \n",
              "1                          None       NaN                       None   \n",
              "2     2024-04-15T14:43:07+02:00     1.999                       None   \n",
              "3                          None       NaN                       None   \n",
              "4     2024-04-20T07:30:02+02:00     1.979                       None   \n",
              "...                         ...       ...                        ...   \n",
              "9988                       None       NaN                       None   \n",
              "9989                       None       NaN  2022-03-01T11:42:24+01:00   \n",
              "9990  2024-04-20T21:15:00+02:00     1.929                       None   \n",
              "9991                       None       NaN  2022-04-04T12:15:29+02:00   \n",
              "9992  2024-02-21T08:56:20+01:00     1.840                       None   \n",
              "\n",
              "      sp95_rupture_type                   sp98_maj sp98_prix  \\\n",
              "0                  None  2024-05-01T00:41:00+02:00     1.998   \n",
              "1                  None  2024-04-30T11:43:03+02:00     1.999   \n",
              "2                  None  2024-04-15T14:43:16+02:00     2.049   \n",
              "3                  None  2024-04-27T10:01:00+02:00     1.962   \n",
              "4                  None  2024-03-31T08:24:23+02:00     1.999   \n",
              "...                 ...                        ...       ...   \n",
              "9988               None  2024-04-26T12:03:12+02:00     1.990   \n",
              "9989         definitive  2024-04-30T08:36:53+02:00     1.959   \n",
              "9990               None  2024-04-25T21:55:45+02:00     1.979   \n",
              "9991         definitive  2024-04-13T09:00:00+02:00     1.969   \n",
              "9992               None  2024-02-21T08:56:20+01:00     1.900   \n",
              "\n",
              "     sp98_rupture_debut  sp98_rupture_type                   ville  \n",
              "0                  None               None  Saint-Brice-sous-Forêt  \n",
              "1                  None               None             Fos-sur-Mer  \n",
              "2                  None               None   Thury-Harcourt-le-Hom  \n",
              "3                  None               None             Fos-sur-Mer  \n",
              "4                  None               None           Rilhac-Rancon  \n",
              "...                 ...                ...                     ...  \n",
              "9988               None               None    Chatuzange-le-Goubet  \n",
              "9989               None               None      Fontaine-Française  \n",
              "9990               None               None         Paray-le-Monial  \n",
              "9991               None               None                  Carvin  \n",
              "9992               None               None         Vern-sur-Seiche  \n",
              "\n",
              "[9993 rows x 47 columns]"
            ],
            "text/html": [
              "\n",
              "  <div id=\"df-b960feeb-4767-431c-ae47-d764af7e5319\" class=\"colab-df-container\">\n",
              "    <div>\n",
              "<style scoped>\n",
              "    .dataframe tbody tr th:only-of-type {\n",
              "        vertical-align: middle;\n",
              "    }\n",
              "\n",
              "    .dataframe tbody tr th {\n",
              "        vertical-align: top;\n",
              "    }\n",
              "\n",
              "    .dataframe thead th {\n",
              "        text-align: right;\n",
              "    }\n",
              "</style>\n",
              "<table border=\"1\" class=\"dataframe\">\n",
              "  <thead>\n",
              "    <tr style=\"text-align: right;\">\n",
              "      <th></th>\n",
              "      <th>adresse</th>\n",
              "      <th>carburants_disponibles</th>\n",
              "      <th>carburants_indisponibles</th>\n",
              "      <th>carburants_rupture_definitive</th>\n",
              "      <th>carburants_rupture_temporaire</th>\n",
              "      <th>code_departement</th>\n",
              "      <th>code_region</th>\n",
              "      <th>cp</th>\n",
              "      <th>departement</th>\n",
              "      <th>e10_maj</th>\n",
              "      <th>...</th>\n",
              "      <th>services_service</th>\n",
              "      <th>sp95_maj</th>\n",
              "      <th>sp95_prix</th>\n",
              "      <th>sp95_rupture_debut</th>\n",
              "      <th>sp95_rupture_type</th>\n",
              "      <th>sp98_maj</th>\n",
              "      <th>sp98_prix</th>\n",
              "      <th>sp98_rupture_debut</th>\n",
              "      <th>sp98_rupture_type</th>\n",
              "      <th>ville</th>\n",
              "    </tr>\n",
              "  </thead>\n",
              "  <tbody>\n",
              "    <tr>\n",
              "      <th>0</th>\n",
              "      <td>20 avenue robert schumann</td>\n",
              "      <td>[Gazole, SP95, E10, SP98]</td>\n",
              "      <td>[E85, GPLc]</td>\n",
              "      <td>E85</td>\n",
              "      <td>None</td>\n",
              "      <td>95</td>\n",
              "      <td>11</td>\n",
              "      <td>95350</td>\n",
              "      <td>Val-d'Oise</td>\n",
              "      <td>2024-05-01T00:41:00+02:00</td>\n",
              "      <td>...</td>\n",
              "      <td>[Vente de gaz domestique (Butane, Propane), DA...</td>\n",
              "      <td>2024-04-29T16:51:00+02:00</td>\n",
              "      <td>1.935</td>\n",
              "      <td>None</td>\n",
              "      <td>None</td>\n",
              "      <td>2024-05-01T00:41:00+02:00</td>\n",
              "      <td>1.998</td>\n",
              "      <td>None</td>\n",
              "      <td>None</td>\n",
              "      <td>Saint-Brice-sous-Forêt</td>\n",
              "    </tr>\n",
              "    <tr>\n",
              "      <th>1</th>\n",
              "      <td>Avenue Georges Pompidou</td>\n",
              "      <td>[Gazole, E85, E10, SP98]</td>\n",
              "      <td>[SP95, GPLc]</td>\n",
              "      <td>None</td>\n",
              "      <td>None</td>\n",
              "      <td>13</td>\n",
              "      <td>93</td>\n",
              "      <td>13270</td>\n",
              "      <td>Bouches-du-Rhône</td>\n",
              "      <td>2024-04-30T11:43:03+02:00</td>\n",
              "      <td>...</td>\n",
              "      <td>[Vente de fioul domestique, Lavage manuel, Ven...</td>\n",
              "      <td>None</td>\n",
              "      <td>NaN</td>\n",
              "      <td>None</td>\n",
              "      <td>None</td>\n",
              "      <td>2024-04-30T11:43:03+02:00</td>\n",
              "      <td>1.999</td>\n",
              "      <td>None</td>\n",
              "      <td>None</td>\n",
              "      <td>Fos-sur-Mer</td>\n",
              "    </tr>\n",
              "    <tr>\n",
              "      <th>2</th>\n",
              "      <td>BOULEVARD DE LA FLECHE</td>\n",
              "      <td>[Gazole, SP95, E85, SP98]</td>\n",
              "      <td>[GPLc, E10]</td>\n",
              "      <td>GPLc;E10</td>\n",
              "      <td>None</td>\n",
              "      <td>14</td>\n",
              "      <td>28</td>\n",
              "      <td>14220</td>\n",
              "      <td>Calvados</td>\n",
              "      <td>None</td>\n",
              "      <td>...</td>\n",
              "      <td>[Toilettes publiques, Laverie, Relais colis, B...</td>\n",
              "      <td>2024-04-15T14:43:07+02:00</td>\n",
              "      <td>1.999</td>\n",
              "      <td>None</td>\n",
              "      <td>None</td>\n",
              "      <td>2024-04-15T14:43:16+02:00</td>\n",
              "      <td>2.049</td>\n",
              "      <td>None</td>\n",
              "      <td>None</td>\n",
              "      <td>Thury-Harcourt-le-Hom</td>\n",
              "    </tr>\n",
              "    <tr>\n",
              "      <th>3</th>\n",
              "      <td>DEVIATION RN 568 OUEST</td>\n",
              "      <td>[Gazole, E10, SP98]</td>\n",
              "      <td>[SP95, E85, GPLc]</td>\n",
              "      <td>None</td>\n",
              "      <td>None</td>\n",
              "      <td>13</td>\n",
              "      <td>93</td>\n",
              "      <td>13270</td>\n",
              "      <td>Bouches-du-Rhône</td>\n",
              "      <td>2024-04-27T10:01:00+02:00</td>\n",
              "      <td>...</td>\n",
              "      <td>None</td>\n",
              "      <td>None</td>\n",
              "      <td>NaN</td>\n",
              "      <td>None</td>\n",
              "      <td>None</td>\n",
              "      <td>2024-04-27T10:01:00+02:00</td>\n",
              "      <td>1.962</td>\n",
              "      <td>None</td>\n",
              "      <td>None</td>\n",
              "      <td>Fos-sur-Mer</td>\n",
              "    </tr>\n",
              "    <tr>\n",
              "      <th>4</th>\n",
              "      <td>87 rue jean monet</td>\n",
              "      <td>[Gazole, SP95, SP98]</td>\n",
              "      <td>[E85, GPLc, E10]</td>\n",
              "      <td>E85;GPLc;E10</td>\n",
              "      <td>None</td>\n",
              "      <td>87</td>\n",
              "      <td>75</td>\n",
              "      <td>87570</td>\n",
              "      <td>Haute-Vienne</td>\n",
              "      <td>None</td>\n",
              "      <td>...</td>\n",
              "      <td>[Restauration à emporter, Station de gonflage,...</td>\n",
              "      <td>2024-04-20T07:30:02+02:00</td>\n",
              "      <td>1.979</td>\n",
              "      <td>None</td>\n",
              "      <td>None</td>\n",
              "      <td>2024-03-31T08:24:23+02:00</td>\n",
              "      <td>1.999</td>\n",
              "      <td>None</td>\n",
              "      <td>None</td>\n",
              "      <td>Rilhac-Rancon</td>\n",
              "    </tr>\n",
              "    <tr>\n",
              "      <th>...</th>\n",
              "      <td>...</td>\n",
              "      <td>...</td>\n",
              "      <td>...</td>\n",
              "      <td>...</td>\n",
              "      <td>...</td>\n",
              "      <td>...</td>\n",
              "      <td>...</td>\n",
              "      <td>...</td>\n",
              "      <td>...</td>\n",
              "      <td>...</td>\n",
              "      <td>...</td>\n",
              "      <td>...</td>\n",
              "      <td>...</td>\n",
              "      <td>...</td>\n",
              "      <td>...</td>\n",
              "      <td>...</td>\n",
              "      <td>...</td>\n",
              "      <td>...</td>\n",
              "      <td>...</td>\n",
              "      <td>...</td>\n",
              "      <td>...</td>\n",
              "    </tr>\n",
              "    <tr>\n",
              "      <th>9988</th>\n",
              "      <td>1005 AV. CHARLES DE GAULLE</td>\n",
              "      <td>[Gazole, E10, SP98]</td>\n",
              "      <td>[SP95, E85, GPLc]</td>\n",
              "      <td>GPLc</td>\n",
              "      <td>None</td>\n",
              "      <td>26</td>\n",
              "      <td>84</td>\n",
              "      <td>26300</td>\n",
              "      <td>Drôme</td>\n",
              "      <td>2024-04-26T12:03:12+02:00</td>\n",
              "      <td>...</td>\n",
              "      <td>[Boutique alimentaire, Boutique non alimentair...</td>\n",
              "      <td>None</td>\n",
              "      <td>NaN</td>\n",
              "      <td>None</td>\n",
              "      <td>None</td>\n",
              "      <td>2024-04-26T12:03:12+02:00</td>\n",
              "      <td>1.990</td>\n",
              "      <td>None</td>\n",
              "      <td>None</td>\n",
              "      <td>Chatuzange-le-Goubet</td>\n",
              "    </tr>\n",
              "    <tr>\n",
              "      <th>9989</th>\n",
              "      <td>34 RUE HENRI BERGER</td>\n",
              "      <td>[Gazole, E85, E10, SP98]</td>\n",
              "      <td>[SP95, GPLc]</td>\n",
              "      <td>SP95;GPLc</td>\n",
              "      <td>None</td>\n",
              "      <td>21</td>\n",
              "      <td>27</td>\n",
              "      <td>21610</td>\n",
              "      <td>Côte-d'Or</td>\n",
              "      <td>2024-04-30T08:36:34+02:00</td>\n",
              "      <td>...</td>\n",
              "      <td>[Laverie, Station de gonflage, Piste poids lou...</td>\n",
              "      <td>None</td>\n",
              "      <td>NaN</td>\n",
              "      <td>2022-03-01T11:42:24+01:00</td>\n",
              "      <td>definitive</td>\n",
              "      <td>2024-04-30T08:36:53+02:00</td>\n",
              "      <td>1.959</td>\n",
              "      <td>None</td>\n",
              "      <td>None</td>\n",
              "      <td>Fontaine-Française</td>\n",
              "    </tr>\n",
              "    <tr>\n",
              "      <th>9990</th>\n",
              "      <td>rue de la grande bruyère</td>\n",
              "      <td>[Gazole, SP95, E10, SP98]</td>\n",
              "      <td>[E85, GPLc]</td>\n",
              "      <td>E85;GPLc</td>\n",
              "      <td>None</td>\n",
              "      <td>71</td>\n",
              "      <td>27</td>\n",
              "      <td>71600</td>\n",
              "      <td>Saône-et-Loire</td>\n",
              "      <td>2024-04-20T21:15:00+02:00</td>\n",
              "      <td>...</td>\n",
              "      <td>[Automate CB 24/24]</td>\n",
              "      <td>2024-04-20T21:15:00+02:00</td>\n",
              "      <td>1.929</td>\n",
              "      <td>None</td>\n",
              "      <td>None</td>\n",
              "      <td>2024-04-25T21:55:45+02:00</td>\n",
              "      <td>1.979</td>\n",
              "      <td>None</td>\n",
              "      <td>None</td>\n",
              "      <td>Paray-le-Monial</td>\n",
              "    </tr>\n",
              "    <tr>\n",
              "      <th>9991</th>\n",
              "      <td>165 route de Meurchin</td>\n",
              "      <td>[Gazole, E85, E10, SP98]</td>\n",
              "      <td>[SP95, GPLc]</td>\n",
              "      <td>SP95;GPLc</td>\n",
              "      <td>None</td>\n",
              "      <td>62</td>\n",
              "      <td>32</td>\n",
              "      <td>62220</td>\n",
              "      <td>Pas-de-Calais</td>\n",
              "      <td>2024-04-27T09:00:00+02:00</td>\n",
              "      <td>...</td>\n",
              "      <td>[Relais colis, Boutique alimentaire, Boutique ...</td>\n",
              "      <td>None</td>\n",
              "      <td>NaN</td>\n",
              "      <td>2022-04-04T12:15:29+02:00</td>\n",
              "      <td>definitive</td>\n",
              "      <td>2024-04-13T09:00:00+02:00</td>\n",
              "      <td>1.969</td>\n",
              "      <td>None</td>\n",
              "      <td>None</td>\n",
              "      <td>Carvin</td>\n",
              "    </tr>\n",
              "    <tr>\n",
              "      <th>9992</th>\n",
              "      <td>ROUTE DE RENNES</td>\n",
              "      <td>[Gazole, SP95, SP98]</td>\n",
              "      <td>[E85, GPLc, E10]</td>\n",
              "      <td>E85</td>\n",
              "      <td>None</td>\n",
              "      <td>35</td>\n",
              "      <td>53</td>\n",
              "      <td>35770</td>\n",
              "      <td>Ille-et-Vilaine</td>\n",
              "      <td>None</td>\n",
              "      <td>...</td>\n",
              "      <td>[Toilettes publiques, Station de gonflage, Car...</td>\n",
              "      <td>2024-02-21T08:56:20+01:00</td>\n",
              "      <td>1.840</td>\n",
              "      <td>None</td>\n",
              "      <td>None</td>\n",
              "      <td>2024-02-21T08:56:20+01:00</td>\n",
              "      <td>1.900</td>\n",
              "      <td>None</td>\n",
              "      <td>None</td>\n",
              "      <td>Vern-sur-Seiche</td>\n",
              "    </tr>\n",
              "  </tbody>\n",
              "</table>\n",
              "<p>9993 rows × 47 columns</p>\n",
              "</div>\n",
              "    <div class=\"colab-df-buttons\">\n",
              "\n",
              "  <div class=\"colab-df-container\">\n",
              "    <button class=\"colab-df-convert\" onclick=\"convertToInteractive('df-b960feeb-4767-431c-ae47-d764af7e5319')\"\n",
              "            title=\"Convert this dataframe to an interactive table.\"\n",
              "            style=\"display:none;\">\n",
              "\n",
              "  <svg xmlns=\"http://www.w3.org/2000/svg\" height=\"24px\" viewBox=\"0 -960 960 960\">\n",
              "    <path d=\"M120-120v-720h720v720H120Zm60-500h600v-160H180v160Zm220 220h160v-160H400v160Zm0 220h160v-160H400v160ZM180-400h160v-160H180v160Zm440 0h160v-160H620v160ZM180-180h160v-160H180v160Zm440 0h160v-160H620v160Z\"/>\n",
              "  </svg>\n",
              "    </button>\n",
              "\n",
              "  <style>\n",
              "    .colab-df-container {\n",
              "      display:flex;\n",
              "      gap: 12px;\n",
              "    }\n",
              "\n",
              "    .colab-df-convert {\n",
              "      background-color: #E8F0FE;\n",
              "      border: none;\n",
              "      border-radius: 50%;\n",
              "      cursor: pointer;\n",
              "      display: none;\n",
              "      fill: #1967D2;\n",
              "      height: 32px;\n",
              "      padding: 0 0 0 0;\n",
              "      width: 32px;\n",
              "    }\n",
              "\n",
              "    .colab-df-convert:hover {\n",
              "      background-color: #E2EBFA;\n",
              "      box-shadow: 0px 1px 2px rgba(60, 64, 67, 0.3), 0px 1px 3px 1px rgba(60, 64, 67, 0.15);\n",
              "      fill: #174EA6;\n",
              "    }\n",
              "\n",
              "    .colab-df-buttons div {\n",
              "      margin-bottom: 4px;\n",
              "    }\n",
              "\n",
              "    [theme=dark] .colab-df-convert {\n",
              "      background-color: #3B4455;\n",
              "      fill: #D2E3FC;\n",
              "    }\n",
              "\n",
              "    [theme=dark] .colab-df-convert:hover {\n",
              "      background-color: #434B5C;\n",
              "      box-shadow: 0px 1px 3px 1px rgba(0, 0, 0, 0.15);\n",
              "      filter: drop-shadow(0px 1px 2px rgba(0, 0, 0, 0.3));\n",
              "      fill: #FFFFFF;\n",
              "    }\n",
              "  </style>\n",
              "\n",
              "    <script>\n",
              "      const buttonEl =\n",
              "        document.querySelector('#df-b960feeb-4767-431c-ae47-d764af7e5319 button.colab-df-convert');\n",
              "      buttonEl.style.display =\n",
              "        google.colab.kernel.accessAllowed ? 'block' : 'none';\n",
              "\n",
              "      async function convertToInteractive(key) {\n",
              "        const element = document.querySelector('#df-b960feeb-4767-431c-ae47-d764af7e5319');\n",
              "        const dataTable =\n",
              "          await google.colab.kernel.invokeFunction('convertToInteractive',\n",
              "                                                    [key], {});\n",
              "        if (!dataTable) return;\n",
              "\n",
              "        const docLinkHtml = 'Like what you see? Visit the ' +\n",
              "          '<a target=\"_blank\" href=https://colab.research.google.com/notebooks/data_table.ipynb>data table notebook</a>'\n",
              "          + ' to learn more about interactive tables.';\n",
              "        element.innerHTML = '';\n",
              "        dataTable['output_type'] = 'display_data';\n",
              "        await google.colab.output.renderOutput(dataTable, element);\n",
              "        const docLink = document.createElement('div');\n",
              "        docLink.innerHTML = docLinkHtml;\n",
              "        element.appendChild(docLink);\n",
              "      }\n",
              "    </script>\n",
              "  </div>\n",
              "\n",
              "\n",
              "<div id=\"df-a4008f64-4c03-40a8-b7be-e75934e57ccd\">\n",
              "  <button class=\"colab-df-quickchart\" onclick=\"quickchart('df-a4008f64-4c03-40a8-b7be-e75934e57ccd')\"\n",
              "            title=\"Suggest charts\"\n",
              "            style=\"display:none;\">\n",
              "\n",
              "<svg xmlns=\"http://www.w3.org/2000/svg\" height=\"24px\"viewBox=\"0 0 24 24\"\n",
              "     width=\"24px\">\n",
              "    <g>\n",
              "        <path d=\"M19 3H5c-1.1 0-2 .9-2 2v14c0 1.1.9 2 2 2h14c1.1 0 2-.9 2-2V5c0-1.1-.9-2-2-2zM9 17H7v-7h2v7zm4 0h-2V7h2v10zm4 0h-2v-4h2v4z\"/>\n",
              "    </g>\n",
              "</svg>\n",
              "  </button>\n",
              "\n",
              "<style>\n",
              "  .colab-df-quickchart {\n",
              "      --bg-color: #E8F0FE;\n",
              "      --fill-color: #1967D2;\n",
              "      --hover-bg-color: #E2EBFA;\n",
              "      --hover-fill-color: #174EA6;\n",
              "      --disabled-fill-color: #AAA;\n",
              "      --disabled-bg-color: #DDD;\n",
              "  }\n",
              "\n",
              "  [theme=dark] .colab-df-quickchart {\n",
              "      --bg-color: #3B4455;\n",
              "      --fill-color: #D2E3FC;\n",
              "      --hover-bg-color: #434B5C;\n",
              "      --hover-fill-color: #FFFFFF;\n",
              "      --disabled-bg-color: #3B4455;\n",
              "      --disabled-fill-color: #666;\n",
              "  }\n",
              "\n",
              "  .colab-df-quickchart {\n",
              "    background-color: var(--bg-color);\n",
              "    border: none;\n",
              "    border-radius: 50%;\n",
              "    cursor: pointer;\n",
              "    display: none;\n",
              "    fill: var(--fill-color);\n",
              "    height: 32px;\n",
              "    padding: 0;\n",
              "    width: 32px;\n",
              "  }\n",
              "\n",
              "  .colab-df-quickchart:hover {\n",
              "    background-color: var(--hover-bg-color);\n",
              "    box-shadow: 0 1px 2px rgba(60, 64, 67, 0.3), 0 1px 3px 1px rgba(60, 64, 67, 0.15);\n",
              "    fill: var(--button-hover-fill-color);\n",
              "  }\n",
              "\n",
              "  .colab-df-quickchart-complete:disabled,\n",
              "  .colab-df-quickchart-complete:disabled:hover {\n",
              "    background-color: var(--disabled-bg-color);\n",
              "    fill: var(--disabled-fill-color);\n",
              "    box-shadow: none;\n",
              "  }\n",
              "\n",
              "  .colab-df-spinner {\n",
              "    border: 2px solid var(--fill-color);\n",
              "    border-color: transparent;\n",
              "    border-bottom-color: var(--fill-color);\n",
              "    animation:\n",
              "      spin 1s steps(1) infinite;\n",
              "  }\n",
              "\n",
              "  @keyframes spin {\n",
              "    0% {\n",
              "      border-color: transparent;\n",
              "      border-bottom-color: var(--fill-color);\n",
              "      border-left-color: var(--fill-color);\n",
              "    }\n",
              "    20% {\n",
              "      border-color: transparent;\n",
              "      border-left-color: var(--fill-color);\n",
              "      border-top-color: var(--fill-color);\n",
              "    }\n",
              "    30% {\n",
              "      border-color: transparent;\n",
              "      border-left-color: var(--fill-color);\n",
              "      border-top-color: var(--fill-color);\n",
              "      border-right-color: var(--fill-color);\n",
              "    }\n",
              "    40% {\n",
              "      border-color: transparent;\n",
              "      border-right-color: var(--fill-color);\n",
              "      border-top-color: var(--fill-color);\n",
              "    }\n",
              "    60% {\n",
              "      border-color: transparent;\n",
              "      border-right-color: var(--fill-color);\n",
              "    }\n",
              "    80% {\n",
              "      border-color: transparent;\n",
              "      border-right-color: var(--fill-color);\n",
              "      border-bottom-color: var(--fill-color);\n",
              "    }\n",
              "    90% {\n",
              "      border-color: transparent;\n",
              "      border-bottom-color: var(--fill-color);\n",
              "    }\n",
              "  }\n",
              "</style>\n",
              "\n",
              "  <script>\n",
              "    async function quickchart(key) {\n",
              "      const quickchartButtonEl =\n",
              "        document.querySelector('#' + key + ' button');\n",
              "      quickchartButtonEl.disabled = true;  // To prevent multiple clicks.\n",
              "      quickchartButtonEl.classList.add('colab-df-spinner');\n",
              "      try {\n",
              "        const charts = await google.colab.kernel.invokeFunction(\n",
              "            'suggestCharts', [key], {});\n",
              "      } catch (error) {\n",
              "        console.error('Error during call to suggestCharts:', error);\n",
              "      }\n",
              "      quickchartButtonEl.classList.remove('colab-df-spinner');\n",
              "      quickchartButtonEl.classList.add('colab-df-quickchart-complete');\n",
              "    }\n",
              "    (() => {\n",
              "      let quickchartButtonEl =\n",
              "        document.querySelector('#df-a4008f64-4c03-40a8-b7be-e75934e57ccd button');\n",
              "      quickchartButtonEl.style.display =\n",
              "        google.colab.kernel.accessAllowed ? 'block' : 'none';\n",
              "    })();\n",
              "  </script>\n",
              "</div>\n",
              "    </div>\n",
              "  </div>\n"
            ],
            "application/vnd.google.colaboratory.intrinsic+json": {
              "type": "dataframe"
            }
          },
          "metadata": {},
          "execution_count": 91
        }
      ]
    },
    {
      "cell_type": "markdown",
      "source": [
        "## Step 1.3. First comparison between DataFrames"
      ],
      "metadata": {
        "id": "aTa6SS6b074O"
      }
    },
    {
      "cell_type": "code",
      "source": [
        "from spark_frame.data_diff import DiffFormatOptions, compare_dataframes\n",
        "\n",
        "diff_result = compare_dataframes(df_v1_xml_raw.withColumnRenamed(\"_id\", \"id\"), df_v2_json_raw, join_cols=[\"id\"])\n",
        "# diff_result.diff_df_shards[\"\"].printSchema()\n",
        "diff_format_options = DiffFormatOptions(\n",
        "    nb_top_values_kept_per_column=200,\n",
        "    left_df_alias=\"df_v1_xml\",\n",
        "    right_df_alias=\"df_v2_json\",\n",
        ")\n",
        "\n",
        "diff_result.export_to_html(\n",
        "    title=\"Comparaison des sources brutes: v1 vs v2\",\n",
        "    diff_format_options=diff_format_options,\n",
        "    output_file_path=\"diff_raw.html\"\n",
        ")"
      ],
      "metadata": {
        "id": "C4EvXjI7yJFA",
        "colab": {
          "base_uri": "https://localhost:8080/"
        },
        "outputId": "347f3ac8-c7a2-4f16-e9e7-b06dbb91d302"
      },
      "execution_count": 92,
      "outputs": [
        {
          "output_type": "stream",
          "name": "stdout",
          "text": [
            "\n",
            "Analyzing differences...\n",
            "Generating the diff by joining the DataFrames together using the provided column: id\n",
            "Report exported as diff_raw.html\n"
          ]
        }
      ]
    },
    {
      "cell_type": "markdown",
      "source": [
        "This will generate a `diff_raw.html` that we can download and open in a browser.\n",
        "As we can see, the results aren't great looking because we have a lot of differences between the dataframes.\n",
        "\n",
        "Once generated, the file can be downloaded from the right panel of this notebook in the \"file section\".\n",
        "\n",
        "![image.png](https://github.com/FurcyPin/french-gas-price/blob/main/images/notebook/how_to_download.png?raw=true)"
      ],
      "metadata": {
        "id": "9sNtuQQL22DF"
      }
    },
    {
      "cell_type": "markdown",
      "source": [
        "After downloading it, open on it and it will open in your favorite browser. You should see something that looks like this:\n",
        "\n",
        "![image.png](https://github.com/FurcyPin/french-gas-price/blob/main/images/notebook/diff_phase_1.png?raw=true)"
      ],
      "metadata": {
        "id": "90ElrWHO5gwW"
      }
    },
    {
      "cell_type": "markdown",
      "source": [
        "As we can see, there isn't many columns that match both sides at the moment.\n",
        "But we will walk through this to make the two DataFrames more comparable, which will also let us showcase some nice spark-frame features."
      ],
      "metadata": {
        "id": "XD-oCZ0I55vP"
      }
    },
    {
      "cell_type": "markdown",
      "source": [
        "# Phase 2: Renaming columns to make them match\n",
        "\n",
        "First we notice in the diffs that some columns have very similar names, like `_latitude` in v1 and `latitude` in v2. So we will use the method `transform_all_field_names` to remove the underscore prefix from every field names in the v1 DataFrame, like this:"
      ],
      "metadata": {
        "id": "lUQYH0co3qu_"
      }
    },
    {
      "cell_type": "code",
      "source": [
        "from spark_frame.transformations import transform_all_field_names\n",
        "\n",
        "def clean_field_names(name: str):\n",
        "    name = name.lower()\n",
        "    if name.startswith(\"_\"):\n",
        "        return name[1:]\n",
        "    else:\n",
        "        return name\n",
        "\n",
        "df_v1_xml_2 = df_v1_xml_raw.transform(transform_all_field_names, clean_field_names)\n",
        "# Which is equivalent to:\n",
        "# df_v1_xml_2 = transform_all_field_names(df_v1_xml_raw, clean_field_names)"
      ],
      "metadata": {
        "id": "XWK8qVo71xJO"
      },
      "execution_count": 93,
      "outputs": []
    },
    {
      "cell_type": "code",
      "source": [
        "df_v1_xml_2.printSchema()"
      ],
      "metadata": {
        "id": "pmp6W6-HuUs5",
        "colab": {
          "base_uri": "https://localhost:8080/"
        },
        "outputId": "64f91f74-a38b-4a15-87d8-828a4e44b4a3"
      },
      "execution_count": 94,
      "outputs": [
        {
          "output_type": "stream",
          "name": "stdout",
          "text": [
            "root\n",
            " |-- cp: string (nullable = true)\n",
            " |-- id: long (nullable = true)\n",
            " |-- latitude: double (nullable = true)\n",
            " |-- longitude: double (nullable = true)\n",
            " |-- pop: string (nullable = true)\n",
            " |-- adresse: string (nullable = true)\n",
            " |-- horaires: struct (nullable = false)\n",
            " |    |-- automate-24-24: string (nullable = true)\n",
            " |    |-- jour: array (nullable = true)\n",
            " |    |    |-- element: struct (containsNull = false)\n",
            " |    |    |    |-- value: string (nullable = true)\n",
            " |    |    |    |-- ferme: string (nullable = true)\n",
            " |    |    |    |-- id: long (nullable = true)\n",
            " |    |    |    |-- nom: string (nullable = true)\n",
            " |    |    |    |-- horaire: array (nullable = true)\n",
            " |    |    |    |    |-- element: struct (containsNull = false)\n",
            " |    |    |    |    |    |-- value: string (nullable = true)\n",
            " |    |    |    |    |    |-- fermeture: double (nullable = true)\n",
            " |    |    |    |    |    |-- ouverture: double (nullable = true)\n",
            " |-- prix: array (nullable = true)\n",
            " |    |-- element: struct (containsNull = false)\n",
            " |    |    |-- value: string (nullable = true)\n",
            " |    |    |-- id: long (nullable = true)\n",
            " |    |    |-- maj: timestamp (nullable = true)\n",
            " |    |    |-- nom: string (nullable = true)\n",
            " |    |    |-- valeur: double (nullable = true)\n",
            " |-- rupture: array (nullable = true)\n",
            " |    |-- element: struct (containsNull = false)\n",
            " |    |    |-- value: string (nullable = true)\n",
            " |    |    |-- debut: timestamp (nullable = true)\n",
            " |    |    |-- fin: string (nullable = true)\n",
            " |    |    |-- id: long (nullable = true)\n",
            " |    |    |-- nom: string (nullable = true)\n",
            " |    |    |-- type: string (nullable = true)\n",
            " |-- services: struct (nullable = false)\n",
            " |    |-- service: array (nullable = true)\n",
            " |    |    |-- element: string (containsNull = true)\n",
            " |-- ville: string (nullable = true)\n",
            "\n"
          ]
        }
      ]
    },
    {
      "cell_type": "markdown",
      "source": [
        "## [Parenthesis] Just for fun\n",
        "\n",
        "Just for fun, let's try to translate all the field names in English:\n"
      ],
      "metadata": {
        "id": "3cgZ-Lqf7UNH"
      }
    },
    {
      "cell_type": "code",
      "source": [
        "!pip install translators==5.9.1 > /dev/null\n",
        "import translators as ts\n",
        "\n",
        "df_v2_xml_en = df_v1_xml_2.transform(transform_all_field_names, lambda col: ts.translate_text(col, \"google\", \"fr\", \"en\"))\n",
        "df_v2_xml_en.printSchema()\n"
      ],
      "metadata": {
        "id": "oSRDqXX97hSl",
        "colab": {
          "base_uri": "https://localhost:8080/"
        },
        "outputId": "6021f462-9463-42a8-aa68-3b90c029a8ce"
      },
      "execution_count": 95,
      "outputs": [
        {
          "output_type": "stream",
          "name": "stdout",
          "text": [
            "\u001b[33mWARNING: Running pip as the 'root' user can result in broken permissions and conflicting behaviour with the system package manager. It is recommended to use a virtual environment instead: https://pip.pypa.io/warnings/venv\u001b[0m\u001b[33m\n",
            "\u001b[0mroot\n",
            " |-- CP: string (nullable = true)\n",
            " |-- id: long (nullable = true)\n",
            " |-- latitude: double (nullable = true)\n",
            " |-- longitude: double (nullable = true)\n",
            " |-- pop: string (nullable = true)\n",
            " |-- address: string (nullable = true)\n",
            " |-- schedules: struct (nullable = false)\n",
            " |    |-- PLC-24-24: string (nullable = true)\n",
            " |    |-- day: array (nullable = true)\n",
            " |    |    |-- element: struct (containsNull = false)\n",
            " |    |    |    |-- value: string (nullable = true)\n",
            " |    |    |    |-- farm: string (nullable = true)\n",
            " |    |    |    |-- id: long (nullable = true)\n",
            " |    |    |    |-- name: string (nullable = true)\n",
            " |    |    |    |-- hourly: array (nullable = true)\n",
            " |    |    |    |    |-- element: struct (containsNull = false)\n",
            " |    |    |    |    |    |-- value: string (nullable = true)\n",
            " |    |    |    |    |    |-- closing: double (nullable = true)\n",
            " |    |    |    |    |    |-- opening: double (nullable = true)\n",
            " |-- price: array (nullable = true)\n",
            " |    |-- element: struct (containsNull = false)\n",
            " |    |    |-- value: string (nullable = true)\n",
            " |    |    |-- id: long (nullable = true)\n",
            " |    |    |-- upris: timestamp (nullable = true)\n",
            " |    |    |-- name: string (nullable = true)\n",
            " |    |    |-- value: double (nullable = true)\n",
            " |-- breakup: array (nullable = true)\n",
            " |    |-- element: struct (containsNull = false)\n",
            " |    |    |-- value: string (nullable = true)\n",
            " |    |    |-- beginning: timestamp (nullable = true)\n",
            " |    |    |-- END: string (nullable = true)\n",
            " |    |    |-- id: long (nullable = true)\n",
            " |    |    |-- name: string (nullable = true)\n",
            " |    |    |-- kind: string (nullable = true)\n",
            " |-- services: struct (nullable = false)\n",
            " |    |-- service: array (nullable = true)\n",
            " |    |    |-- element: string (containsNull = true)\n",
            " |-- city: string (nullable = true)\n",
            "\n"
          ]
        }
      ]
    },
    {
      "cell_type": "markdown",
      "source": [
        "Now let's compare the DataFrames again:"
      ],
      "metadata": {
        "id": "p0lD2K8mYNQm"
      }
    },
    {
      "cell_type": "code",
      "source": [
        "diff_result = compare_dataframes(df_v1_xml_2, df_v2_json_raw, join_cols=[\"id\"])\n",
        "diff_result.export_to_html(\n",
        "    title=\"Comparaison des sources: v1 vs v2 - Phase 2\",\n",
        "    diff_format_options=diff_format_options,\n",
        "    output_file_path=\"diff_2.html\"\n",
        ")"
      ],
      "metadata": {
        "id": "Sg8nC9YM4MvZ",
        "colab": {
          "base_uri": "https://localhost:8080/"
        },
        "outputId": "9cf8722c-a5f7-4835-8b98-46d866a34e32"
      },
      "execution_count": 96,
      "outputs": [
        {
          "output_type": "stream",
          "name": "stdout",
          "text": [
            "\n",
            "Analyzing differences...\n",
            "Generating the diff by joining the DataFrames together using the provided column: id\n",
            "Report exported as diff_2.html\n"
          ]
        }
      ]
    },
    {
      "cell_type": "markdown",
      "source": [
        "Like before, you can now download the report file named `diff_2.html` and open it in a browser. You should see something like that:\n",
        "\n",
        "![image.png](https://github.com/FurcyPin/french-gas-price/blob/main/images/notebook/diff_phase_2.png?raw=true)\n"
      ],
      "metadata": {
        "id": "8jJTykJnYTjf"
      }
    },
    {
      "cell_type": "markdown",
      "source": [
        "We see now in the schema diff that more column names match, but there are still many columns that only exist in the v2, like for instance `e10_prix`, `e10_maj`, `sp95_prix` and `sp95_maj`, which give the price and update time of that price for the E10 and SP95 gas types.\n",
        "This is because the values from the column `prix` in the v1, which is an array of struct, have been \"pivoted\" in the v2. While this make it easier for the users to access each value (especially when building dashboards) this also has the downside of being less generic: if they ever introduce a new type of gas, they will have to alter the schema of the v2, while the v1 could have stored this new data without requiring any schema change.\n",
        "\n",
        "*note: \"SP95\" means Sans-Plomb 95 which is unleaded 95 in English.*"
      ],
      "metadata": {
        "id": "N951pNkzcHZf"
      }
    },
    {
      "cell_type": "markdown",
      "source": [
        "# Phase 3: Computing the fields missing from v1\n",
        "\n",
        "We will now update the v1 xml dataframe to add the columns that can be computed from other columns, such as `e10_prix` and `e10_maj`, etc."
      ],
      "metadata": {
        "id": "hutmPLKJYYfD"
      }
    },
    {
      "cell_type": "code",
      "source": [
        "carburants = [\"E10\", \"E85\", \"SP95\", \"SP98\", \"Gazole\", \"GPLc\"]\n",
        "carburants_array = f.array([f.lit(c) for c in carburants])\n",
        "\n",
        "\n",
        "def get_from(col_name, name):\n",
        "    \"\"\"Iterate over the array column `col_name` and only keep the records matching this name\"\"\"\n",
        "    return f.filter(f.col(col_name), lambda c: c[\"nom\"] == f.lit(name))\n",
        "\n",
        "\n",
        "def clean_rupture_type(gas_type):\n",
        "    res = f.array_max(get_from(\"rupture\", gas_type)[\"type\"])\n",
        "    res = f.when(res != f.lit(\"\"), res)\n",
        "    return res\n",
        "\n",
        "\n",
        "df_v1_xml_3 = df_v1_xml_2.withColumnsRenamed({\n",
        "    \"cp\": \"code postal\",\n",
        "}).withColumns({\n",
        "    \"services proposes\": \"services.service\",\n",
        "    \"carburants disponibles\": f.col(\"prix.nom\"),\n",
        "    \"carburants indisponibles\":\n",
        "        f.nullif(\n",
        "            f.filter(carburants_array, lambda c: ~f.array_contains(f.col(\"prix.nom\"), c)),\n",
        "            f.array()\n",
        "        ),\n",
        "    \"e10_maj\": get_from(\"prix\", \"E10\")[0][\"maj\"],\n",
        "    \"e85_maj\": get_from(\"prix\", \"E85\")[0][\"maj\"],\n",
        "    \"sp95_maj\": get_from(\"prix\", \"SP95\")[0][\"maj\"],\n",
        "    \"sp98_maj\": get_from(\"prix\", \"SP98\")[0][\"maj\"],\n",
        "    \"gazole_maj\": get_from(\"prix\", \"Gazole\")[0][\"maj\"],\n",
        "    \"gplc_maj\": get_from(\"prix\", \"GPLc\")[0][\"maj\"],\n",
        "\n",
        "    \"e10_prix\": get_from(\"prix\", \"E10\")[0][\"valeur\"],\n",
        "    \"e85_prix\": get_from(\"prix\", \"E85\")[0][\"valeur\"],\n",
        "    \"sp95_prix\": get_from(\"prix\", \"SP95\")[0][\"valeur\"],\n",
        "    \"sp98_prix\": get_from(\"prix\", \"SP98\")[0][\"valeur\"],\n",
        "    \"gazole_prix\": get_from(\"prix\", \"Gazole\")[0][\"valeur\"],\n",
        "    \"gplc_prix\": get_from(\"prix\", \"GPLc\")[0][\"valeur\"],\n",
        "\n",
        "    \"e10_rupture_debut\": f.array_max(get_from(\"rupture\", \"E10\")[\"debut\"]),\n",
        "    \"e85_rupture_debut\": f.array_max(get_from(\"rupture\", \"E85\")[\"debut\"]),\n",
        "    \"sp95_rupture_debut\": f.array_max(get_from(\"rupture\", \"SP95\")[\"debut\"]),\n",
        "    \"sp98_rupture_debut\": f.array_max(get_from(\"rupture\", \"SP98\")[\"debut\"]),\n",
        "    \"gazole_rupture_debut\": f.array_max(get_from(\"rupture\", \"Gazole\")[\"debut\"]),\n",
        "    \"gplc_rupture_debut\": f.array_max(get_from(\"rupture\", \"GPLc\")[\"debut\"]),\n",
        "\n",
        "    \"e10_rupture_type\": clean_rupture_type(\"E10\"),\n",
        "    \"e85_rupture_type\": clean_rupture_type(\"E85\"),\n",
        "    \"sp95_rupture_type\": clean_rupture_type(\"SP95\"),\n",
        "    \"sp98_rupture_type\": clean_rupture_type(\"SP98\"),\n",
        "    \"gazole_rupture_type\": clean_rupture_type(\"Gazole\"),\n",
        "    \"gplc_rupture_type\": clean_rupture_type(\"GPLc\"),\n",
        "\n",
        "    \"horaires\": f.col(\"horaires\").dropFields(\"`automate-24-24`\"),\n",
        "\n",
        "    \"code_departement\": f.substring(f.col(\"code postal\"), 0, 2),\n",
        "\n",
        "    \"automate 24-24 (oui/non)\":\n",
        "        f.when(f.col(\"horaires.automate-24-24\") == f.lit(1), f.lit(\"Oui\")).otherwise(f.lit(\"Non\"))\n",
        "})"
      ],
      "metadata": {
        "id": "Fok8j46caaKS"
      },
      "execution_count": 97,
      "outputs": []
    },
    {
      "cell_type": "markdown",
      "source": [
        "We also update the v2 json to rename some column and have them match with v1."
      ],
      "metadata": {
        "id": "nsZNv230laKI"
      }
    },
    {
      "cell_type": "code",
      "source": [
        "df_v2_json_v2 = df_v2_json_raw.withColumnsRenamed({\n",
        "    \"cp\": \"code postal\",\n",
        "    \"carburants_disponibles\": \"carburants disponibles\",\n",
        "    \"carburants_indisponibles\": \"carburants indisponibles\",\n",
        "    \"horaires_automate_24_24\": \"automate 24-24 (oui/non)\",\n",
        "    \"services_service\": \"services proposes\"\n",
        "})"
      ],
      "metadata": {
        "id": "tuRvhn3blZng"
      },
      "execution_count": 98,
      "outputs": []
    },
    {
      "cell_type": "code",
      "source": [
        "# We first sort the columns of each DataFrames to make the diff look better\n",
        "df_v1 = df_v1_xml_3.select(*sorted(df_v1_xml_3.columns))\n",
        "df_v2 = df_v2_json_v2.select(*sorted(df_v2_json_v2.columns))\n",
        "diff_result = compare_dataframes(df_v1, df_v2, join_cols=[\"id\"])\n",
        "diff_result.export_to_html(\n",
        "    title=\"Comparaison des sources: v1 vs v2 - Phase 3\",\n",
        "    diff_format_options=diff_format_options,\n",
        "    output_file_path=\"diff_3.html\"\n",
        ")"
      ],
      "metadata": {
        "colab": {
          "base_uri": "https://localhost:8080/"
        },
        "id": "cOE4EBARbPS_",
        "outputId": "d4cb4ea0-2ad8-431d-f51d-171c2ec99cca"
      },
      "execution_count": 99,
      "outputs": [
        {
          "output_type": "stream",
          "name": "stdout",
          "text": [
            "\n",
            "Analyzing differences...\n",
            "Generating the diff by joining the DataFrames together using the provided column: id\n",
            "Report exported as diff_3.html\n"
          ]
        }
      ]
    },
    {
      "cell_type": "markdown",
      "source": [
        "We now get the following schema diff:\n",
        "\n",
        "![image.png](https://github.com/FurcyPin/french-gas-price/blob/main/images/notebook/diff_phase_3-1.png?raw=true)"
      ],
      "metadata": {
        "id": "zy70Nsq3fUXp"
      }
    },
    {
      "cell_type": "markdown",
      "source": [
        "As we can see, things start to look better, but the types of many columns don't match. Despite that, the diff still compared columns that did not match, and we can see for example if we scroll down and click on the bar chart for the `sp_95` column, we see a breakdown of the most frequent changes happening, and we can see that the v2 timestamps strings are formatted with a timezone while the v1 was in UTC.\n",
        "\n",
        "![image.png](https://github.com/FurcyPin/french-gas-price/blob/main/images/notebook/diff_phase_3-2.png?raw=true)"
      ],
      "metadata": {
        "id": "maOeY1fqgihR"
      }
    },
    {
      "cell_type": "markdown",
      "source": [
        "*Note: in the bar chart for each columns, the colors have the following meaning:*\n",
        "- *green: values are identical in both DataFrames*\n",
        "- *red: values are different between both DataFrames*\n",
        "- *blue: exists only in v1*\n",
        "- *purple: exists only in v2*"
      ],
      "metadata": {
        "id": "F0qS22skrmwS"
      }
    },
    {
      "cell_type": "markdown",
      "source": [
        "# Phase 4: Fixing types in the v2\n",
        "\n",
        "We will now adapt the v2 to make it's types match the v1, as timestamp and double types are certainly better than strings."
      ],
      "metadata": {
        "id": "DPk7UrXFkUGP"
      }
    },
    {
      "cell_type": "code",
      "source": [
        "df_v2_json_v3 = df_v2_json_v2.withColumns({\n",
        "    \"e10_maj\": f.col(\"e10_maj\").cast(\"timestamp\"),\n",
        "    \"e85_maj\": f.col(\"e85_maj\").cast(\"timestamp\"),\n",
        "    \"sp95_maj\": f.col(\"sp95_maj\").cast(\"timestamp\"),\n",
        "    \"sp98_maj\": f.col(\"sp98_maj\").cast(\"timestamp\"),\n",
        "    \"gazole_maj\": f.col(\"gazole_maj\").cast(\"timestamp\"),\n",
        "    \"gplc_maj\": f.col(\"gplc_maj\").cast(\"timestamp\"),\n",
        "    \"e10_prix\": f.col(\"e10_prix\").cast(\"double\"),\n",
        "    \"e85_prix\": f.col(\"e85_prix\").cast(\"double\"),\n",
        "    \"sp95_prix\": f.col(\"sp95_prix\").cast(\"double\"),\n",
        "    \"sp98_prix\": f.col(\"sp98_prix\").cast(\"double\"),\n",
        "    \"gazole_prix\": f.col(\"gazole_prix\").cast(\"double\"),\n",
        "    \"gplc_prix\": f.col(\"gplc_prix\").cast(\"double\"),\n",
        "    \"latitude\": f.col(\"latitude\").cast(\"double\"),\n",
        "    \"longitude\": f.col(\"longitude\").cast(\"double\"),\n",
        "})\n",
        "\n",
        "\n",
        "def to_utc_timestamp(ts: Column) -> Column:\n",
        "    return f.to_timestamp(ts)\n",
        "\n",
        "\n",
        "df_v2_json_v4 = df_v2_json_v3.withColumns({\n",
        "    \"e10_maj\": to_utc_timestamp(f.col(\"e10_maj\")),\n",
        "    \"e10_rupture_debut\": to_utc_timestamp(f.col(\"e10_rupture_debut\")),\n",
        "    \"e85_maj\": to_utc_timestamp(f.col(\"e85_maj\")),\n",
        "    \"e85_rupture_debut\": to_utc_timestamp(f.col(\"e85_rupture_debut\")),\n",
        "    \"gazole_maj\": to_utc_timestamp(f.col(\"gazole_maj\")),\n",
        "    \"gazole_rupture_debut\": to_utc_timestamp(f.col(\"gazole_rupture_debut\")),\n",
        "    \"gplc_maj\": to_utc_timestamp(f.col(\"gplc_maj\")),\n",
        "    \"gplc_rupture_debut\": to_utc_timestamp(f.col(\"gplc_rupture_debut\")),\n",
        "    \"sp95_maj\": to_utc_timestamp(f.col(\"sp95_maj\")),\n",
        "    \"sp95_rupture_debut\": to_utc_timestamp(f.col(\"sp95_rupture_debut\")),\n",
        "    \"sp98_maj\": to_utc_timestamp(f.col(\"sp98_maj\")),\n",
        "    \"sp98_rupture_debut\": to_utc_timestamp(f.col(\"sp98_rupture_debut\")),\n",
        "})"
      ],
      "metadata": {
        "id": "i9VySpm2keHe"
      },
      "execution_count": 100,
      "outputs": []
    },
    {
      "cell_type": "code",
      "source": [
        "# We first sort the columns of each DataFrames to make the diff look better\n",
        "df_v1 = df_v1_xml_3.select(*sorted(df_v1_xml_3.columns))\n",
        "df_v2 = df_v2_json_v4.select(*sorted(df_v2_json_v4.columns))\n",
        "diff_result = compare_dataframes(df_v1, df_v2, join_cols=[\"id\"])\n",
        "diff_result.export_to_html(\n",
        "    title=\"Comparaison des sources: v1 vs v2 - Phase 4\",\n",
        "    diff_format_options=diff_format_options,\n",
        "    output_file_path=\"diff_4.html\"\n",
        ")"
      ],
      "metadata": {
        "colab": {
          "base_uri": "https://localhost:8080/"
        },
        "id": "RJ4X1rQGlDie",
        "outputId": "0b8ca0ff-77e6-43ef-8f32-1b11e67bb27f"
      },
      "execution_count": 101,
      "outputs": [
        {
          "output_type": "stream",
          "name": "stdout",
          "text": [
            "\n",
            "Analyzing differences...\n",
            "Generating the diff by joining the DataFrames together using the provided column: id\n",
            "Report exported as diff_4.html\n"
          ]
        }
      ]
    },
    {
      "cell_type": "markdown",
      "source": [
        "The schema diff looks even better now:\n",
        "\n",
        "![image.png](https://github.com/FurcyPin/french-gas-price/blob/main/images/notebook/diff_phase_4-1.png?raw=true)"
      ],
      "metadata": {
        "id": "q8d8EGwYom1w"
      }
    },
    {
      "cell_type": "markdown",
      "source": [
        "And so does the data diff, for most columns anyway:\n",
        "\n",
        "![image.png](https://github.com/FurcyPin/french-gas-price/blob/main/images/notebook/diff_phase_4-2.png?raw=true)"
      ],
      "metadata": {
        "id": "Z1idM_3ko12v"
      }
    },
    {
      "cell_type": "markdown",
      "source": [
        "We still see major differences for the columns `prix` and `rupture`, though.\n",
        "As we can see in the schema, this is because they are arrays of struct in the v1 and simple strings in the v2.\n",
        "\n",
        "By clicking on the bar chart for the `prix` column, we can see that the string value in the v2 is a JSON that is sometimes an `ARRAY<STRUCT>` and sometimes a `STRUCT`.\n",
        "\n",
        "![image.png](https://github.com/FurcyPin/french-gas-price/blob/main/images/notebook/diff_phase_4-3.png?raw=true)"
      ],
      "metadata": {
        "id": "OoQGsSvIo_d0"
      }
    },
    {
      "cell_type": "markdown",
      "source": [
        "# Phase 5: Parsing the json columns from v2\n",
        "\n",
        "We will now parse the columns in the v2 that are json strings to make them match the types from v1."
      ],
      "metadata": {
        "id": "jmkFFYkHw01u"
      }
    },
    {
      "cell_type": "code",
      "source": [
        "from spark_frame.transformations import parse_json_columns\n",
        "\n",
        "df_v2_json_v5 = df_v2_json_v4.transform(parse_json_columns, \"horaires\")\n",
        "# or equivalently\n",
        "# df_v2_json_v5 = parse_json_columns(df_v2_json_v4, \"horaires\")"
      ],
      "metadata": {
        "id": "TFj0RPGxxNcq"
      },
      "execution_count": 102,
      "outputs": []
    },
    {
      "cell_type": "markdown",
      "source": [
        "## [Parenthesis] Introducing a feature: parse_json_columns\n",
        "\n",
        "You are probably already familiar with Spark's built-in function [`from_json`](https://spark.apache.org/docs/3.1.1/api/python/reference/api/pyspark.sql.functions.from_json.html), which can be used to parse a json string column into a SQL type. But this function requires to specify the target schema in advance and we are lazy. So instead, we use the [`spark_frame.transformations.parse_json_columns`](https://furcypin.github.io/spark-frame/reference/transformations/#spark_frame.transformations_impl.parse_json_columns.parse_json_columns) that will automatically run a first pass to autodetect the schema and then pass it to the `from_json` method.\n",
        "\n",
        "When using it, be aware however that this require to process the DataFrame a first time to infer the schema, and also that it requires a `rdd.map` step that will require to execute Python on the executor's side, so it is not optimal in terms of performance, but it's okay for small datasets.\n",
        "\n",
        "*By the way if someone knows a way to convert a `DataFrame` into an `RDD[String]` in  PyPsark without needing a `rdd.map` step, I'm interested.*"
      ],
      "metadata": {
        "id": "WT6IAOgpyA2p"
      }
    },
    {
      "cell_type": "code",
      "source": [
        "df_v2_json_v5.select(\"horaires\").printSchema()"
      ],
      "metadata": {
        "colab": {
          "base_uri": "https://localhost:8080/"
        },
        "id": "qaQktIEx0XgF",
        "outputId": "97228028-e166-47af-da29-9967761742b1"
      },
      "execution_count": 103,
      "outputs": [
        {
          "output_type": "stream",
          "name": "stdout",
          "text": [
            "root\n",
            " |-- horaires: struct (nullable = true)\n",
            " |    |-- @automate-24-24: string (nullable = true)\n",
            " |    |-- jour: array (nullable = true)\n",
            " |    |    |-- element: struct (containsNull = true)\n",
            " |    |    |    |-- @ferme: string (nullable = true)\n",
            " |    |    |    |-- @id: string (nullable = true)\n",
            " |    |    |    |-- @nom: string (nullable = true)\n",
            " |    |    |    |-- horaire: string (nullable = true)\n",
            "\n"
          ]
        }
      ]
    },
    {
      "cell_type": "markdown",
      "source": [
        "\n",
        "## [Parenthesis] Introducing a feature: nested.print_schema\n",
        "\n",
        "---\n",
        "\n",
        "\n",
        "As you can see, the type of the `horaires` column is heavily nested.\n",
        "Understanding it's structure and reading the full names of it's field can be somewhat difficult for the human eye.\n",
        "\n",
        "**For instance, the full path of the field `@id` is `horaires.jour!.@id`.**\n",
        "\n",
        "This name `horaires.jour!.@id` is hard to spot when reading the output of `printSchema()`, as it require to eye over several lines of text to extract non-aligned information from it. And of course if gets even worse when the level of nesting goes even deeper.\n",
        "\n",
        "*Note that we added exclamation mark at the end of the name of the field `jour. This is a convention that makes repeated fields easier to spot.*\n",
        "\n",
        "Therefore, we made a method that prints a flat version of the DataFrame's schema, like this:\n"
      ],
      "metadata": {
        "id": "QGkTyb_puz2B"
      }
    },
    {
      "cell_type": "code",
      "source": [
        "from spark_frame import nested\n",
        "\n",
        "nested.print_schema(df_v2_json_v5.select(\"horaires\"))"
      ],
      "metadata": {
        "id": "umchGUdQuhih",
        "colab": {
          "base_uri": "https://localhost:8080/"
        },
        "outputId": "6f8de9b8-fcaf-4bc9-e3cb-96b031e3f58d"
      },
      "execution_count": 104,
      "outputs": [
        {
          "output_type": "stream",
          "name": "stdout",
          "text": [
            "root\n",
            " |-- horaires.@automate-24-24: string (nullable = true)\n",
            " |-- horaires.jour!.@ferme: string (nullable = true)\n",
            " |-- horaires.jour!.@id: string (nullable = true)\n",
            " |-- horaires.jour!.@nom: string (nullable = true)\n",
            " |-- horaires.jour!.horaire: string (nullable = true)\n",
            "\n"
          ]
        }
      ]
    },
    {
      "cell_type": "markdown",
      "source": [
        "As you can see, the output schema is more compact but also more readable.\n",
        "Additionnaly, this naming convention will be useful for the next transformation.\n",
        "\n",
        "Indeed, the field `horaires.jour!.horaire` is itself a string containing a json value that we need to parse (again)."
      ],
      "metadata": {
        "id": "cBWq5e3Y4WaE"
      }
    },
    {
      "cell_type": "code",
      "source": [
        "from spark_frame import nested\n",
        "\n",
        "df_v2_json_v6 = df_v2_json_v5.transform(nested.with_fields, {\n",
        "    \"horaires.jour!.horaire\": lambda jour:\n",
        "    f.coalesce(\n",
        "        f.from_json(jour[\"horaire\"], \"ARRAY<STRUCT<`@fermeture`: STRING, `@ouverture`: STRING>>\"),\n",
        "        f.array(\n",
        "            f.from_json(jour[\"horaire\"], \"STRUCT<`@fermeture`: STRING, `@ouverture`: STRING>\"),\n",
        "        ),\n",
        "    )\n",
        "})"
      ],
      "metadata": {
        "id": "OS2AMFkN1elc"
      },
      "execution_count": 105,
      "outputs": []
    },
    {
      "cell_type": "markdown",
      "source": [
        "## [Parenthesis] Introducing a feature: nested.with_fields\n",
        "\n",
        "Here we used another powerful method from spark_frame: [`nested.with_fields`](https://furcypin.github.io/spark-frame/reference/nested/#spark_frame.nested_impl.with_fields.with_fields). This method is the equivalent of (`DataFrame.withColumn`)[https://spark.apache.org/docs/latest/api/python/reference/pyspark.sql/api/pyspark.sql.DataFrame.withColumns.html] except it also works with fields nested inside arrays.\n",
        "\n",
        "Therefore, we can apply transformation to the elements of the array `horaires.jour`, which will apply the transformation to the right fields without affecting the other fields."
      ],
      "metadata": {
        "id": "vjrS5QFz3-uI"
      }
    },
    {
      "cell_type": "code",
      "source": [
        "nested.print_schema(df_v2_json_v6.select(\"horaires\"))"
      ],
      "metadata": {
        "colab": {
          "base_uri": "https://localhost:8080/"
        },
        "id": "p2BuGoSqbVfp",
        "outputId": "1a0b845b-7d6c-44f0-cee2-9d25548cf36b"
      },
      "execution_count": 106,
      "outputs": [
        {
          "output_type": "stream",
          "name": "stdout",
          "text": [
            "root\n",
            " |-- horaires.@automate-24-24: string (nullable = true)\n",
            " |-- horaires.jour!.@ferme: string (nullable = true)\n",
            " |-- horaires.jour!.@id: string (nullable = true)\n",
            " |-- horaires.jour!.@nom: string (nullable = true)\n",
            " |-- horaires.jour!.horaire!.@fermeture: string (nullable = true)\n",
            " |-- horaires.jour!.horaire!.@ouverture: string (nullable = true)\n",
            "\n"
          ]
        }
      ]
    },
    {
      "cell_type": "markdown",
      "source": [
        "Next, we continue parsing the other json columns from v2:"
      ],
      "metadata": {
        "id": "HVX1uVTO5-5M"
      }
    },
    {
      "cell_type": "code",
      "source": [
        "df_v2_json_v7 = df_v2_json_v6.withColumns({\n",
        "    \"prix\":\n",
        "        f.coalesce(\n",
        "            f.from_json(\"prix\", \"ARRAY<STRUCT<`@id`: STRING, `@maj`: TIMESTAMP, `@nom`: STRING, `@valeur`: STRING>>\"),\n",
        "            f.array(\n",
        "                f.from_json(\"prix\", \"STRUCT<`@id`: STRING, `@maj`: TIMESTAMP, `@nom`: STRING, `@valeur`: STRING>\")\n",
        "            ),\n",
        "        ),\n",
        "    \"rupture\":\n",
        "        f.from_json(\"rupture\", \"ARRAY<STRUCT<`@debut`:STRING,`@fin`:STRING,`@id`:STRING,`@nom`:STRING,`@type`:STRING>>\"),\n",
        "})"
      ],
      "metadata": {
        "id": "3iwg0FWg43sX"
      },
      "execution_count": 107,
      "outputs": []
    },
    {
      "cell_type": "markdown",
      "source": [
        "We drop the \"@\" at the beginning of field names to match with names from the v1:"
      ],
      "metadata": {
        "id": "dfZwIiRZDSAS"
      }
    },
    {
      "cell_type": "code",
      "source": [
        "def clean_field_names(name: str):\n",
        "    name = name.lower()\n",
        "    if name.startswith(\"@\") :\n",
        "        return name[1:]\n",
        "    else:\n",
        "        return name\n",
        "\n",
        "df_v2_json_v8 = df_v2_json_v7.transform(\n",
        "    transform_all_field_names, clean_field_names\n",
        ").transform(nested.with_fields, {\n",
        "    \"horaires\": lambda df: df[\"horaires\"].dropFields(\"`automate-24-24`\"),\n",
        "}).drop(\"services\", \"horaires_jour\")"
      ],
      "metadata": {
        "id": "99ry0ImYDSOs"
      },
      "execution_count": 108,
      "outputs": []
    },
    {
      "cell_type": "markdown",
      "source": [
        "And we also drop unecessary fields from v1:"
      ],
      "metadata": {
        "id": "j5vSE0pL6aF9"
      }
    },
    {
      "cell_type": "code",
      "source": [
        "df_v1_xml_4 = df_v1_xml_3.transform(nested.with_fields, {\n",
        "    \"horaires.jour!\": lambda jour: jour.dropFields(\"value\"),\n",
        "    \"prix!\": lambda prix: prix.dropFields(\"value\"),\n",
        "    \"rupture!\": lambda rupture: rupture.dropFields(\"value\"),\n",
        "}).transform(nested.with_fields, {\n",
        "    \"horaires.jour!.horaire!\": lambda horaire: horaire.dropFields(\"value\"),\n",
        "}).drop(\n",
        "    \"services\"\n",
        ")"
      ],
      "metadata": {
        "id": "G_En98t16FJr"
      },
      "execution_count": 109,
      "outputs": []
    },
    {
      "cell_type": "code",
      "source": [
        "# We first sort the columns of each DataFrames to make the diff look better\n",
        "df_v1 = df_v1_xml_4.select(*sorted(df_v1_xml_4.columns))\n",
        "df_v2 = df_v2_json_v8.select(*sorted(df_v2_json_v8.columns))\n",
        "diff_result = compare_dataframes(df_v1, df_v2, join_cols=[\"id\"])\n",
        "diff_result.export_to_html(\n",
        "    title=\"Comparaison des sources: v1 vs v2 - Phase 5\",\n",
        "    diff_format_options=diff_format_options,\n",
        "    output_file_path=\"diff_5.html\"\n",
        ")"
      ],
      "metadata": {
        "colab": {
          "base_uri": "https://localhost:8080/"
        },
        "id": "08llNFzc6fSV",
        "outputId": "c36856e6-021b-4d35-e7bc-dce85de5b6da"
      },
      "execution_count": 110,
      "outputs": [
        {
          "output_type": "stream",
          "name": "stdout",
          "text": [
            "\n",
            "Analyzing differences...\n",
            "Generating the diff by joining the DataFrames together using the provided column: id\n",
            "Report exported as diff_5.html\n"
          ]
        }
      ]
    },
    {
      "cell_type": "markdown",
      "source": [
        "In this new report, when see that the column `horaires.jour` still has many differences, but when we click on it to view the comparison details, they are not very easy to interpret. Luckily, as we will see in the next phase, this can be improved.\n",
        "\n",
        "![image.png](https://github.com/FurcyPin/french-gas-price/blob/main/images/notebook/diff_phase_5.png?raw=true)"
      ],
      "metadata": {
        "id": "CyQoeyXtKVb1"
      }
    },
    {
      "cell_type": "markdown",
      "source": [
        "# Phase 6: Better diff between nested columns\n",
        "\n",
        "We can make the diff more precise on nested columns if we specify the field to use as \"id\" to compare arrays of structs. In our example we notice that the DataFrame have fields `prix!.id` and `horaires.jour!.id` which can uniquely identify elements of their respective arrays.\n",
        "\n",
        "Therefore we will use these field to improve the join_cols parameter passed to the `compare_dataframes` method.\n"
      ],
      "metadata": {
        "id": "xqrJh8cfIx0c"
      }
    },
    {
      "cell_type": "code",
      "source": [
        "diff_result = compare_dataframes(df_v1, df_v2, join_cols=[\"id\", \"prix!.id\", \"horaires.jour!.id\"])\n",
        "diff_result.export_to_html(\n",
        "    title=\"Comparaison des sources: v1 vs v2 - Phase 6\",\n",
        "    diff_format_options=diff_format_options,\n",
        "    output_file_path=\"diff_6.html\"\n",
        ")"
      ],
      "metadata": {
        "colab": {
          "base_uri": "https://localhost:8080/"
        },
        "id": "KOTbr6016qQg",
        "outputId": "5310b2d5-dfe9-4ecd-810a-a088b43e980b"
      },
      "execution_count": 111,
      "outputs": [
        {
          "output_type": "stream",
          "name": "stdout",
          "text": [
            "\n",
            "Analyzing differences...\n",
            "Generating the diff by joining the DataFrames together using the provided column: id\n",
            "Generating the diff by joining the DataFrames together using the provided columns: ['id', 'horaires.jour!.id']\n",
            "Generating the diff by joining the DataFrames together using the provided columns: ['id', 'prix!.id']\n",
            "Report exported as diff_6.html\n"
          ]
        }
      ]
    },
    {
      "cell_type": "markdown",
      "source": [
        "*Note: The diff takes a little longer now, because it has to expand the DataFrames against several dimensions, but please bear in mind that this Colab has not many resources and that it would run much faster on a real cluster.*\n",
        "\n",
        "*As a comparison, on my 8-core laptop, it generally runs in around 50 seconds.*\n"
      ],
      "metadata": {
        "id": "Jnw9gf8ZK0gT"
      }
    },
    {
      "cell_type": "markdown",
      "source": [
        "In this new report, we can now see the `horaires.jour!` array being expanded and see the diff on each of it's subfield. This is because we told the program to use `\"horaires.jour!.id\"` in its `join_cols`. We can now clearly see that the differences on the field `horaires.jour!.horaire` are mostly caused by the fact that the types are different and because of some NULL values being incorrectly parsed. We will fix this in the final phase.\n",
        "\n",
        "![image.png](https://github.com/FurcyPin/french-gas-price/blob/main/images/notebook/diff_phase_6.png?raw=true)"
      ],
      "metadata": {
        "id": "rhYjbbX0MTGi"
      }
    },
    {
      "cell_type": "markdown",
      "source": [
        "# Phase 7: Last fixes"
      ],
      "metadata": {
        "id": "oCOerTU2NvDm"
      }
    },
    {
      "cell_type": "code",
      "source": [
        "df_v2_json_v9 = df_v2_json_v8.transform(nested.with_fields, {\n",
        "    \"prix!.id\": lambda prix: prix[\"id\"].cast(\"BIGINT\"),\n",
        "    \"prix!.valeur\": lambda prix: prix[\"valeur\"].cast(\"DOUBLE\"),\n",
        "    \"rupture!.debut\": lambda rupture: rupture[\"debut\"].cast(\"TIMESTAMP\"),\n",
        "    \"rupture!.id\": lambda rupture: rupture[\"id\"].cast(\"BIGINT\"),\n",
        "    \"horaires.jour!.id\": lambda jour: jour[\"id\"].cast(\"BIGINT\"),\n",
        "    \"horaires.jour!.horaire!.ouverture\": lambda horaire: horaire[\"ouverture\"].cast(\"DOUBLE\"),\n",
        "    \"horaires.jour!.horaire!.fermeture\": lambda horaire: horaire[\"fermeture\"].cast(\"DOUBLE\"),\n",
        "}).transform(nested.with_fields, {\n",
        "    \"horaires.jour!.horaire\": lambda jour:\n",
        "        f.when(\n",
        "            (f.array_size(jour[\"horaire\"]) == f.lit(1))\n",
        "            & jour[\"horaire\"][0][\"fermeture\"].isNull()\n",
        "            & jour[\"horaire\"][0][\"ouverture\"].isNull(), f.lit(None)\n",
        "        ).otherwise(\n",
        "            jour[\"horaire\"]\n",
        "        )\n",
        "})"
      ],
      "metadata": {
        "id": "GVa1NIIaK0JS"
      },
      "execution_count": 112,
      "outputs": []
    },
    {
      "cell_type": "code",
      "source": [
        "df_v1 = df_v1_xml_4.select(*sorted(df_v1_xml_4.columns))\n",
        "df_v2 = df_v2_json_v9.select(*sorted(df_v2_json_v9.columns))\n",
        "diff_result = compare_dataframes(df_v1, df_v2, join_cols=[\"id\", \"prix!.id\", \"horaires.jour!.id\"])\n",
        "diff_result.export_to_html(\n",
        "    title=\"Comparaison des sources: v1 vs v2 - Phase 7\",\n",
        "    diff_format_options=diff_format_options,\n",
        "    output_file_path=\"diff_7.html\"\n",
        ")"
      ],
      "metadata": {
        "colab": {
          "base_uri": "https://localhost:8080/"
        },
        "id": "TlfajiuqOiSh",
        "outputId": "5421652a-3179-4b56-ee2c-0ff4f9a98db7"
      },
      "execution_count": 113,
      "outputs": [
        {
          "output_type": "stream",
          "name": "stdout",
          "text": [
            "\n",
            "Analyzing differences...\n",
            "Generating the diff by joining the DataFrames together using the provided column: id\n",
            "Generating the diff by joining the DataFrames together using the provided columns: ['id', 'horaires.jour!.id']\n",
            "Generating the diff by joining the DataFrames together using the provided columns: ['id', 'prix!.id']\n",
            "Report exported as diff_7.html\n"
          ]
        }
      ]
    },
    {
      "cell_type": "code",
      "source": [],
      "metadata": {
        "id": "f6Bsl5aEOpys"
      },
      "execution_count": 113,
      "outputs": []
    }
  ]
}